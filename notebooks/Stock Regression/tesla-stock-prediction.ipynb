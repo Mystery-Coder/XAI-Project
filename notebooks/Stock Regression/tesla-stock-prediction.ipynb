{
 "cells": [
  {
   "cell_type": "code",
   "execution_count": 2,
   "metadata": {
    "_cell_guid": "c925d226-67ee-449e-9d63-faef2365b160",
    "_uuid": "53301474-310b-490e-985a-70afbfedeeea",
    "collapsed": false,
    "execution": {
     "iopub.execute_input": "2024-11-04T03:54:24.828845Z",
     "iopub.status.busy": "2024-11-04T03:54:24.828439Z",
     "iopub.status.idle": "2024-11-04T03:54:25.885016Z",
     "shell.execute_reply": "2024-11-04T03:54:25.883698Z",
     "shell.execute_reply.started": "2024-11-04T03:54:24.828775Z"
    },
    "jupyter": {
     "outputs_hidden": false
    },
    "trusted": true
   },
   "outputs": [],
   "source": [
    "# This Python 3 environment comes with many helpful analytics libraries installed\n",
    "# It is defined by the kaggle/python Docker image: https://github.com/kaggle/docker-python\n",
    "# For example, here's several helpful packages to load\n",
    "\n",
    "import numpy as np # linear algebra\n",
    "import pandas as pd # data processing, CSV file I/O (e.g. pd.read_csv)\n",
    "\n",
    "# Input data files are available in the read-only \"../input/\" directory\n",
    "# For example, running this (by clicking run or pressing Shift+Enter) will list all files under the input directory\n",
    "\n",
    "import os\n",
    "for dirname, _, filenames in os.walk('/kaggle/input'):\n",
    "    for filename in filenames:\n",
    "        print(os.path.join(dirname, filename))\n",
    "\n",
    "# You can write up to 20GB to the current directory (/kaggle/working/) that gets preserved as output when you create a version using \"Save & Run All\" \n",
    "# You can also write temporary files to /kaggle/temp/, but they won't be saved outside of the current session"
   ]
  },
  {
   "cell_type": "code",
   "execution_count": 3,
   "metadata": {
    "_cell_guid": "f77a9938-1fe0-4c36-a3f8-a4af6abfa3c5",
    "_uuid": "0b32cfdf-bd81-43be-9062-3f5c9685fa56",
    "collapsed": false,
    "execution": {
     "iopub.execute_input": "2024-11-04T07:56:20.902547Z",
     "iopub.status.busy": "2024-11-04T07:56:20.902156Z",
     "iopub.status.idle": "2024-11-04T07:56:21.300105Z",
     "shell.execute_reply": "2024-11-04T07:56:21.298898Z",
     "shell.execute_reply.started": "2024-11-04T07:56:20.902507Z"
    },
    "jupyter": {
     "outputs_hidden": false
    },
    "trusted": true
   },
   "outputs": [],
   "source": [
    "import pandas as pd\n",
    "import numpy as np\n",
    "import matplotlib as plt"
   ]
  },
  {
   "cell_type": "code",
   "execution_count": 4,
   "metadata": {
    "_cell_guid": "fb845f43-8ed6-49a6-87a4-1b598a5f51f3",
    "_uuid": "40a15449-9fca-424f-8421-b41a5156599d",
    "collapsed": false,
    "execution": {
     "iopub.execute_input": "2024-11-04T03:54:25.895889Z",
     "iopub.status.busy": "2024-11-04T03:54:25.894855Z",
     "iopub.status.idle": "2024-11-04T03:54:25.936421Z",
     "shell.execute_reply": "2024-11-04T03:54:25.935307Z",
     "shell.execute_reply.started": "2024-11-04T03:54:25.895753Z"
    },
    "jupyter": {
     "outputs_hidden": false
    },
    "trusted": true
   },
   "outputs": [
    {
     "ename": "FileNotFoundError",
     "evalue": "[Errno 2] No such file or directory: '/kaggle/input/tesla-stock-2022-2024/TSLA Historical Data (1).csv'",
     "output_type": "error",
     "traceback": [
      "\u001b[1;31m---------------------------------------------------------------------------\u001b[0m",
      "\u001b[1;31mFileNotFoundError\u001b[0m                         Traceback (most recent call last)",
      "Cell \u001b[1;32mIn[4], line 1\u001b[0m\n\u001b[1;32m----> 1\u001b[0m df\u001b[38;5;241m=\u001b[39m\u001b[43mpd\u001b[49m\u001b[38;5;241;43m.\u001b[39;49m\u001b[43mread_csv\u001b[49m\u001b[43m(\u001b[49m\u001b[38;5;124;43m\"\u001b[39;49m\u001b[38;5;124;43m/kaggle/input/tesla-stock-2022-2024/TSLA Historical Data (1).csv\u001b[39;49m\u001b[38;5;124;43m\"\u001b[39;49m\u001b[43m)\u001b[49m\n\u001b[0;32m      2\u001b[0m df\u001b[38;5;241m.\u001b[39mhead(\u001b[38;5;241m15\u001b[39m)\n",
      "File \u001b[1;32m~\\AppData\\Roaming\\Python\\Python312\\site-packages\\pandas\\io\\parsers\\readers.py:1026\u001b[0m, in \u001b[0;36mread_csv\u001b[1;34m(filepath_or_buffer, sep, delimiter, header, names, index_col, usecols, dtype, engine, converters, true_values, false_values, skipinitialspace, skiprows, skipfooter, nrows, na_values, keep_default_na, na_filter, verbose, skip_blank_lines, parse_dates, infer_datetime_format, keep_date_col, date_parser, date_format, dayfirst, cache_dates, iterator, chunksize, compression, thousands, decimal, lineterminator, quotechar, quoting, doublequote, escapechar, comment, encoding, encoding_errors, dialect, on_bad_lines, delim_whitespace, low_memory, memory_map, float_precision, storage_options, dtype_backend)\u001b[0m\n\u001b[0;32m   1013\u001b[0m kwds_defaults \u001b[38;5;241m=\u001b[39m _refine_defaults_read(\n\u001b[0;32m   1014\u001b[0m     dialect,\n\u001b[0;32m   1015\u001b[0m     delimiter,\n\u001b[1;32m   (...)\u001b[0m\n\u001b[0;32m   1022\u001b[0m     dtype_backend\u001b[38;5;241m=\u001b[39mdtype_backend,\n\u001b[0;32m   1023\u001b[0m )\n\u001b[0;32m   1024\u001b[0m kwds\u001b[38;5;241m.\u001b[39mupdate(kwds_defaults)\n\u001b[1;32m-> 1026\u001b[0m \u001b[38;5;28;01mreturn\u001b[39;00m \u001b[43m_read\u001b[49m\u001b[43m(\u001b[49m\u001b[43mfilepath_or_buffer\u001b[49m\u001b[43m,\u001b[49m\u001b[43m \u001b[49m\u001b[43mkwds\u001b[49m\u001b[43m)\u001b[49m\n",
      "File \u001b[1;32m~\\AppData\\Roaming\\Python\\Python312\\site-packages\\pandas\\io\\parsers\\readers.py:620\u001b[0m, in \u001b[0;36m_read\u001b[1;34m(filepath_or_buffer, kwds)\u001b[0m\n\u001b[0;32m    617\u001b[0m _validate_names(kwds\u001b[38;5;241m.\u001b[39mget(\u001b[38;5;124m\"\u001b[39m\u001b[38;5;124mnames\u001b[39m\u001b[38;5;124m\"\u001b[39m, \u001b[38;5;28;01mNone\u001b[39;00m))\n\u001b[0;32m    619\u001b[0m \u001b[38;5;66;03m# Create the parser.\u001b[39;00m\n\u001b[1;32m--> 620\u001b[0m parser \u001b[38;5;241m=\u001b[39m \u001b[43mTextFileReader\u001b[49m\u001b[43m(\u001b[49m\u001b[43mfilepath_or_buffer\u001b[49m\u001b[43m,\u001b[49m\u001b[43m \u001b[49m\u001b[38;5;241;43m*\u001b[39;49m\u001b[38;5;241;43m*\u001b[39;49m\u001b[43mkwds\u001b[49m\u001b[43m)\u001b[49m\n\u001b[0;32m    622\u001b[0m \u001b[38;5;28;01mif\u001b[39;00m chunksize \u001b[38;5;129;01mor\u001b[39;00m iterator:\n\u001b[0;32m    623\u001b[0m     \u001b[38;5;28;01mreturn\u001b[39;00m parser\n",
      "File \u001b[1;32m~\\AppData\\Roaming\\Python\\Python312\\site-packages\\pandas\\io\\parsers\\readers.py:1620\u001b[0m, in \u001b[0;36mTextFileReader.__init__\u001b[1;34m(self, f, engine, **kwds)\u001b[0m\n\u001b[0;32m   1617\u001b[0m     \u001b[38;5;28mself\u001b[39m\u001b[38;5;241m.\u001b[39moptions[\u001b[38;5;124m\"\u001b[39m\u001b[38;5;124mhas_index_names\u001b[39m\u001b[38;5;124m\"\u001b[39m] \u001b[38;5;241m=\u001b[39m kwds[\u001b[38;5;124m\"\u001b[39m\u001b[38;5;124mhas_index_names\u001b[39m\u001b[38;5;124m\"\u001b[39m]\n\u001b[0;32m   1619\u001b[0m \u001b[38;5;28mself\u001b[39m\u001b[38;5;241m.\u001b[39mhandles: IOHandles \u001b[38;5;241m|\u001b[39m \u001b[38;5;28;01mNone\u001b[39;00m \u001b[38;5;241m=\u001b[39m \u001b[38;5;28;01mNone\u001b[39;00m\n\u001b[1;32m-> 1620\u001b[0m \u001b[38;5;28mself\u001b[39m\u001b[38;5;241m.\u001b[39m_engine \u001b[38;5;241m=\u001b[39m \u001b[38;5;28;43mself\u001b[39;49m\u001b[38;5;241;43m.\u001b[39;49m\u001b[43m_make_engine\u001b[49m\u001b[43m(\u001b[49m\u001b[43mf\u001b[49m\u001b[43m,\u001b[49m\u001b[43m \u001b[49m\u001b[38;5;28;43mself\u001b[39;49m\u001b[38;5;241;43m.\u001b[39;49m\u001b[43mengine\u001b[49m\u001b[43m)\u001b[49m\n",
      "File \u001b[1;32m~\\AppData\\Roaming\\Python\\Python312\\site-packages\\pandas\\io\\parsers\\readers.py:1880\u001b[0m, in \u001b[0;36mTextFileReader._make_engine\u001b[1;34m(self, f, engine)\u001b[0m\n\u001b[0;32m   1878\u001b[0m     \u001b[38;5;28;01mif\u001b[39;00m \u001b[38;5;124m\"\u001b[39m\u001b[38;5;124mb\u001b[39m\u001b[38;5;124m\"\u001b[39m \u001b[38;5;129;01mnot\u001b[39;00m \u001b[38;5;129;01min\u001b[39;00m mode:\n\u001b[0;32m   1879\u001b[0m         mode \u001b[38;5;241m+\u001b[39m\u001b[38;5;241m=\u001b[39m \u001b[38;5;124m\"\u001b[39m\u001b[38;5;124mb\u001b[39m\u001b[38;5;124m\"\u001b[39m\n\u001b[1;32m-> 1880\u001b[0m \u001b[38;5;28mself\u001b[39m\u001b[38;5;241m.\u001b[39mhandles \u001b[38;5;241m=\u001b[39m \u001b[43mget_handle\u001b[49m\u001b[43m(\u001b[49m\n\u001b[0;32m   1881\u001b[0m \u001b[43m    \u001b[49m\u001b[43mf\u001b[49m\u001b[43m,\u001b[49m\n\u001b[0;32m   1882\u001b[0m \u001b[43m    \u001b[49m\u001b[43mmode\u001b[49m\u001b[43m,\u001b[49m\n\u001b[0;32m   1883\u001b[0m \u001b[43m    \u001b[49m\u001b[43mencoding\u001b[49m\u001b[38;5;241;43m=\u001b[39;49m\u001b[38;5;28;43mself\u001b[39;49m\u001b[38;5;241;43m.\u001b[39;49m\u001b[43moptions\u001b[49m\u001b[38;5;241;43m.\u001b[39;49m\u001b[43mget\u001b[49m\u001b[43m(\u001b[49m\u001b[38;5;124;43m\"\u001b[39;49m\u001b[38;5;124;43mencoding\u001b[39;49m\u001b[38;5;124;43m\"\u001b[39;49m\u001b[43m,\u001b[49m\u001b[43m \u001b[49m\u001b[38;5;28;43;01mNone\u001b[39;49;00m\u001b[43m)\u001b[49m\u001b[43m,\u001b[49m\n\u001b[0;32m   1884\u001b[0m \u001b[43m    \u001b[49m\u001b[43mcompression\u001b[49m\u001b[38;5;241;43m=\u001b[39;49m\u001b[38;5;28;43mself\u001b[39;49m\u001b[38;5;241;43m.\u001b[39;49m\u001b[43moptions\u001b[49m\u001b[38;5;241;43m.\u001b[39;49m\u001b[43mget\u001b[49m\u001b[43m(\u001b[49m\u001b[38;5;124;43m\"\u001b[39;49m\u001b[38;5;124;43mcompression\u001b[39;49m\u001b[38;5;124;43m\"\u001b[39;49m\u001b[43m,\u001b[49m\u001b[43m \u001b[49m\u001b[38;5;28;43;01mNone\u001b[39;49;00m\u001b[43m)\u001b[49m\u001b[43m,\u001b[49m\n\u001b[0;32m   1885\u001b[0m \u001b[43m    \u001b[49m\u001b[43mmemory_map\u001b[49m\u001b[38;5;241;43m=\u001b[39;49m\u001b[38;5;28;43mself\u001b[39;49m\u001b[38;5;241;43m.\u001b[39;49m\u001b[43moptions\u001b[49m\u001b[38;5;241;43m.\u001b[39;49m\u001b[43mget\u001b[49m\u001b[43m(\u001b[49m\u001b[38;5;124;43m\"\u001b[39;49m\u001b[38;5;124;43mmemory_map\u001b[39;49m\u001b[38;5;124;43m\"\u001b[39;49m\u001b[43m,\u001b[49m\u001b[43m \u001b[49m\u001b[38;5;28;43;01mFalse\u001b[39;49;00m\u001b[43m)\u001b[49m\u001b[43m,\u001b[49m\n\u001b[0;32m   1886\u001b[0m \u001b[43m    \u001b[49m\u001b[43mis_text\u001b[49m\u001b[38;5;241;43m=\u001b[39;49m\u001b[43mis_text\u001b[49m\u001b[43m,\u001b[49m\n\u001b[0;32m   1887\u001b[0m \u001b[43m    \u001b[49m\u001b[43merrors\u001b[49m\u001b[38;5;241;43m=\u001b[39;49m\u001b[38;5;28;43mself\u001b[39;49m\u001b[38;5;241;43m.\u001b[39;49m\u001b[43moptions\u001b[49m\u001b[38;5;241;43m.\u001b[39;49m\u001b[43mget\u001b[49m\u001b[43m(\u001b[49m\u001b[38;5;124;43m\"\u001b[39;49m\u001b[38;5;124;43mencoding_errors\u001b[39;49m\u001b[38;5;124;43m\"\u001b[39;49m\u001b[43m,\u001b[49m\u001b[43m \u001b[49m\u001b[38;5;124;43m\"\u001b[39;49m\u001b[38;5;124;43mstrict\u001b[39;49m\u001b[38;5;124;43m\"\u001b[39;49m\u001b[43m)\u001b[49m\u001b[43m,\u001b[49m\n\u001b[0;32m   1888\u001b[0m \u001b[43m    \u001b[49m\u001b[43mstorage_options\u001b[49m\u001b[38;5;241;43m=\u001b[39;49m\u001b[38;5;28;43mself\u001b[39;49m\u001b[38;5;241;43m.\u001b[39;49m\u001b[43moptions\u001b[49m\u001b[38;5;241;43m.\u001b[39;49m\u001b[43mget\u001b[49m\u001b[43m(\u001b[49m\u001b[38;5;124;43m\"\u001b[39;49m\u001b[38;5;124;43mstorage_options\u001b[39;49m\u001b[38;5;124;43m\"\u001b[39;49m\u001b[43m,\u001b[49m\u001b[43m \u001b[49m\u001b[38;5;28;43;01mNone\u001b[39;49;00m\u001b[43m)\u001b[49m\u001b[43m,\u001b[49m\n\u001b[0;32m   1889\u001b[0m \u001b[43m\u001b[49m\u001b[43m)\u001b[49m\n\u001b[0;32m   1890\u001b[0m \u001b[38;5;28;01massert\u001b[39;00m \u001b[38;5;28mself\u001b[39m\u001b[38;5;241m.\u001b[39mhandles \u001b[38;5;129;01mis\u001b[39;00m \u001b[38;5;129;01mnot\u001b[39;00m \u001b[38;5;28;01mNone\u001b[39;00m\n\u001b[0;32m   1891\u001b[0m f \u001b[38;5;241m=\u001b[39m \u001b[38;5;28mself\u001b[39m\u001b[38;5;241m.\u001b[39mhandles\u001b[38;5;241m.\u001b[39mhandle\n",
      "File \u001b[1;32m~\\AppData\\Roaming\\Python\\Python312\\site-packages\\pandas\\io\\common.py:873\u001b[0m, in \u001b[0;36mget_handle\u001b[1;34m(path_or_buf, mode, encoding, compression, memory_map, is_text, errors, storage_options)\u001b[0m\n\u001b[0;32m    868\u001b[0m \u001b[38;5;28;01melif\u001b[39;00m \u001b[38;5;28misinstance\u001b[39m(handle, \u001b[38;5;28mstr\u001b[39m):\n\u001b[0;32m    869\u001b[0m     \u001b[38;5;66;03m# Check whether the filename is to be opened in binary mode.\u001b[39;00m\n\u001b[0;32m    870\u001b[0m     \u001b[38;5;66;03m# Binary mode does not support 'encoding' and 'newline'.\u001b[39;00m\n\u001b[0;32m    871\u001b[0m     \u001b[38;5;28;01mif\u001b[39;00m ioargs\u001b[38;5;241m.\u001b[39mencoding \u001b[38;5;129;01mand\u001b[39;00m \u001b[38;5;124m\"\u001b[39m\u001b[38;5;124mb\u001b[39m\u001b[38;5;124m\"\u001b[39m \u001b[38;5;129;01mnot\u001b[39;00m \u001b[38;5;129;01min\u001b[39;00m ioargs\u001b[38;5;241m.\u001b[39mmode:\n\u001b[0;32m    872\u001b[0m         \u001b[38;5;66;03m# Encoding\u001b[39;00m\n\u001b[1;32m--> 873\u001b[0m         handle \u001b[38;5;241m=\u001b[39m \u001b[38;5;28;43mopen\u001b[39;49m\u001b[43m(\u001b[49m\n\u001b[0;32m    874\u001b[0m \u001b[43m            \u001b[49m\u001b[43mhandle\u001b[49m\u001b[43m,\u001b[49m\n\u001b[0;32m    875\u001b[0m \u001b[43m            \u001b[49m\u001b[43mioargs\u001b[49m\u001b[38;5;241;43m.\u001b[39;49m\u001b[43mmode\u001b[49m\u001b[43m,\u001b[49m\n\u001b[0;32m    876\u001b[0m \u001b[43m            \u001b[49m\u001b[43mencoding\u001b[49m\u001b[38;5;241;43m=\u001b[39;49m\u001b[43mioargs\u001b[49m\u001b[38;5;241;43m.\u001b[39;49m\u001b[43mencoding\u001b[49m\u001b[43m,\u001b[49m\n\u001b[0;32m    877\u001b[0m \u001b[43m            \u001b[49m\u001b[43merrors\u001b[49m\u001b[38;5;241;43m=\u001b[39;49m\u001b[43merrors\u001b[49m\u001b[43m,\u001b[49m\n\u001b[0;32m    878\u001b[0m \u001b[43m            \u001b[49m\u001b[43mnewline\u001b[49m\u001b[38;5;241;43m=\u001b[39;49m\u001b[38;5;124;43m\"\u001b[39;49m\u001b[38;5;124;43m\"\u001b[39;49m\u001b[43m,\u001b[49m\n\u001b[0;32m    879\u001b[0m \u001b[43m        \u001b[49m\u001b[43m)\u001b[49m\n\u001b[0;32m    880\u001b[0m     \u001b[38;5;28;01melse\u001b[39;00m:\n\u001b[0;32m    881\u001b[0m         \u001b[38;5;66;03m# Binary mode\u001b[39;00m\n\u001b[0;32m    882\u001b[0m         handle \u001b[38;5;241m=\u001b[39m \u001b[38;5;28mopen\u001b[39m(handle, ioargs\u001b[38;5;241m.\u001b[39mmode)\n",
      "\u001b[1;31mFileNotFoundError\u001b[0m: [Errno 2] No such file or directory: '/kaggle/input/tesla-stock-2022-2024/TSLA Historical Data (1).csv'"
     ]
    }
   ],
   "source": [
    "df=pd.read_csv(\"/kaggle/input/tesla-stock-2022-2024/TSLA Historical Data (1).csv\")\n",
    "df.head(15)"
   ]
  },
  {
   "cell_type": "code",
   "execution_count": null,
   "metadata": {
    "_cell_guid": "87d940e5-6da7-40eb-bca4-80e5c71f4336",
    "_uuid": "290fcf9a-d5d0-47c9-a72e-688296160dde",
    "collapsed": false,
    "execution": {
     "iopub.execute_input": "2024-11-04T03:54:25.939874Z",
     "iopub.status.busy": "2024-11-04T03:54:25.939465Z",
     "iopub.status.idle": "2024-11-04T03:54:25.965194Z",
     "shell.execute_reply": "2024-11-04T03:54:25.964159Z",
     "shell.execute_reply.started": "2024-11-04T03:54:25.939837Z"
    },
    "jupyter": {
     "outputs_hidden": false
    },
    "trusted": true
   },
   "outputs": [
    {
     "name": "stdout",
     "output_type": "stream",
     "text": [
      "<class 'pandas.core.frame.DataFrame'>\n",
      "RangeIndex: 503 entries, 0 to 502\n",
      "Data columns (total 7 columns):\n",
      " #   Column          Non-Null Count  Dtype  \n",
      "---  ------          --------------  -----  \n",
      " 0   Date            503 non-null    object \n",
      " 1   Price           503 non-null    float64\n",
      " 2   Open            503 non-null    float64\n",
      " 3   High            503 non-null    float64\n",
      " 4   Low             503 non-null    float64\n",
      " 5   Vol.(millions)  503 non-null    float64\n",
      " 6   Change          503 non-null    float64\n",
      "dtypes: float64(6), object(1)\n",
      "memory usage: 27.6+ KB\n"
     ]
    }
   ],
   "source": [
    "df.info()"
   ]
  },
  {
   "cell_type": "markdown",
   "metadata": {
    "_cell_guid": "49efddf9-b736-4ac5-8e2b-150bd0a54788",
    "_uuid": "ba50924d-7fbd-4626-a1d7-6d0ff491d861",
    "trusted": true
   },
   "source": [
    "The change field is string type and has '%' symbol. this function and code block is to remove that"
   ]
  },
  {
   "cell_type": "code",
   "execution_count": null,
   "metadata": {
    "_cell_guid": "b1efef79-3401-451a-9b6d-6959e2b99383",
    "_uuid": "8f8ff9ce-0e87-4d84-a02b-7141d6461573",
    "collapsed": false,
    "execution": {
     "iopub.execute_input": "2024-11-04T03:54:25.967003Z",
     "iopub.status.busy": "2024-11-04T03:54:25.966562Z",
     "iopub.status.idle": "2024-11-04T03:54:25.974040Z",
     "shell.execute_reply": "2024-11-04T03:54:25.973167Z",
     "shell.execute_reply.started": "2024-11-04T03:54:25.966961Z"
    },
    "jupyter": {
     "outputs_hidden": false
    },
    "trusted": true
   },
   "outputs": [],
   "source": [
    "temp_df=pd.read_csv('/kaggle/input/tesla-stock-2022-2024/TSLA Historical Data (1).csv',usecols=['Change'])"
   ]
  },
  {
   "cell_type": "code",
   "execution_count": null,
   "metadata": {
    "_cell_guid": "302318f8-b639-422d-bfab-5cd50209b387",
    "_uuid": "11167197-adf5-44a5-bb4d-146fc87468c3",
    "collapsed": false,
    "execution": {
     "iopub.execute_input": "2024-11-04T03:54:25.975602Z",
     "iopub.status.busy": "2024-11-04T03:54:25.975266Z",
     "iopub.status.idle": "2024-11-04T03:54:25.980437Z",
     "shell.execute_reply": "2024-11-04T03:54:25.979339Z",
     "shell.execute_reply.started": "2024-11-04T03:54:25.975568Z"
    },
    "jupyter": {
     "outputs_hidden": false
    },
    "trusted": true
   },
   "outputs": [],
   "source": [
    "# def clean_str(strings):\n",
    "#     return strings[:-1]"
   ]
  },
  {
   "cell_type": "code",
   "execution_count": null,
   "metadata": {
    "_cell_guid": "c4fc7e02-2dc6-4e7a-bcf8-da79a34f8117",
    "_uuid": "6831eea5-ef9e-4992-a1a9-fdbf4275de1d",
    "collapsed": false,
    "execution": {
     "iopub.execute_input": "2024-11-04T03:55:16.581665Z",
     "iopub.status.busy": "2024-11-04T03:55:16.581201Z",
     "iopub.status.idle": "2024-11-04T03:55:16.586423Z",
     "shell.execute_reply": "2024-11-04T03:55:16.585083Z",
     "shell.execute_reply.started": "2024-11-04T03:55:16.581624Z"
    },
    "jupyter": {
     "outputs_hidden": false
    },
    "trusted": true
   },
   "outputs": [],
   "source": [
    "# for rows in temp_df.iterrows():\n",
    "#     rows=clean_str(rows)"
   ]
  },
  {
   "cell_type": "code",
   "execution_count": null,
   "metadata": {
    "_cell_guid": "6529cb98-cfb3-4e66-a7ea-65ecc34890c8",
    "_uuid": "5168a65b-d273-4c48-87f8-41f9037fb3c7",
    "collapsed": false,
    "execution": {
     "iopub.execute_input": "2024-11-04T03:55:21.771711Z",
     "iopub.status.busy": "2024-11-04T03:55:21.771315Z",
     "iopub.status.idle": "2024-11-04T03:55:21.782368Z",
     "shell.execute_reply": "2024-11-04T03:55:21.781115Z",
     "shell.execute_reply.started": "2024-11-04T03:55:21.771673Z"
    },
    "jupyter": {
     "outputs_hidden": false
    },
    "trusted": true
   },
   "outputs": [
    {
     "name": "stdout",
     "output_type": "stream",
     "text": [
      "     Change\n",
      "0   -0.0299\n",
      "1   -0.0076\n",
      "2   -0.0114\n",
      "3   -0.0248\n",
      "4    0.0334\n",
      "..      ...\n",
      "498 -0.0501\n",
      "499 -0.0364\n",
      "500  0.0015\n",
      "501 -0.0564\n",
      "502  0.0012\n",
      "\n",
      "[503 rows x 1 columns]\n"
     ]
    }
   ],
   "source": [
    "print(temp_df)"
   ]
  },
  {
   "cell_type": "code",
   "execution_count": null,
   "metadata": {
    "_cell_guid": "17682a3d-33c3-4062-972d-84dfb7983622",
    "_uuid": "fb9ee8ae-17ee-49ce-9c68-ddf3916d0249",
    "collapsed": false,
    "execution": {
     "iopub.status.busy": "2024-11-04T03:54:26.294809Z",
     "iopub.status.idle": "2024-11-04T03:54:26.295232Z",
     "shell.execute_reply": "2024-11-04T03:54:26.295063Z",
     "shell.execute_reply.started": "2024-11-04T03:54:26.295043Z"
    },
    "jupyter": {
     "outputs_hidden": false
    },
    "trusted": true
   },
   "outputs": [],
   "source": [
    "convert_dict={'Change': float}\n",
    "df=df.astype(convert_dict)"
   ]
  },
  {
   "cell_type": "code",
   "execution_count": null,
   "metadata": {
    "_cell_guid": "5e6c8c8b-25bb-4672-9052-9dc2ce941095",
    "_uuid": "a036705d-fe93-4e53-a42f-3f80fbe84b8c",
    "collapsed": false,
    "execution": {
     "iopub.execute_input": "2024-11-04T03:56:01.501057Z",
     "iopub.status.busy": "2024-11-04T03:56:01.500638Z",
     "iopub.status.idle": "2024-11-04T03:56:01.508664Z",
     "shell.execute_reply": "2024-11-04T03:56:01.507537Z",
     "shell.execute_reply.started": "2024-11-04T03:56:01.501013Z"
    },
    "jupyter": {
     "outputs_hidden": false
    },
    "trusted": true
   },
   "outputs": [
    {
     "data": {
      "text/plain": [
       "Index(['Date', 'Price', 'Open', 'High', 'Low', 'Vol.(millions)', 'Change'], dtype='object')"
      ]
     },
     "execution_count": 10,
     "metadata": {},
     "output_type": "execute_result"
    }
   ],
   "source": [
    "df.columns"
   ]
  },
  {
   "cell_type": "code",
   "execution_count": null,
   "metadata": {
    "_cell_guid": "88eaa046-5d49-41fc-ae7a-61df170e93f1",
    "_uuid": "10b15604-0745-4c72-8f35-2069c4618e29",
    "collapsed": false,
    "execution": {
     "iopub.execute_input": "2024-11-04T03:56:04.163176Z",
     "iopub.status.busy": "2024-11-04T03:56:04.162442Z",
     "iopub.status.idle": "2024-11-04T03:56:04.192529Z",
     "shell.execute_reply": "2024-11-04T03:56:04.191530Z",
     "shell.execute_reply.started": "2024-11-04T03:56:04.163133Z"
    },
    "jupyter": {
     "outputs_hidden": false
    },
    "trusted": true
   },
   "outputs": [
    {
     "data": {
      "text/html": [
       "<div>\n",
       "<style scoped>\n",
       "    .dataframe tbody tr th:only-of-type {\n",
       "        vertical-align: middle;\n",
       "    }\n",
       "\n",
       "    .dataframe tbody tr th {\n",
       "        vertical-align: top;\n",
       "    }\n",
       "\n",
       "    .dataframe thead th {\n",
       "        text-align: right;\n",
       "    }\n",
       "</style>\n",
       "<table border=\"1\" class=\"dataframe\">\n",
       "  <thead>\n",
       "    <tr style=\"text-align: right;\">\n",
       "      <th></th>\n",
       "      <th>Price</th>\n",
       "      <th>Open</th>\n",
       "      <th>High</th>\n",
       "      <th>Low</th>\n",
       "      <th>Vol.(millions)</th>\n",
       "      <th>Change</th>\n",
       "    </tr>\n",
       "  </thead>\n",
       "  <tbody>\n",
       "    <tr>\n",
       "      <th>count</th>\n",
       "      <td>503.000000</td>\n",
       "      <td>503.000000</td>\n",
       "      <td>503.000000</td>\n",
       "      <td>503.000000</td>\n",
       "      <td>503.000000</td>\n",
       "      <td>503.000000</td>\n",
       "    </tr>\n",
       "    <tr>\n",
       "      <th>mean</th>\n",
       "      <td>207.977654</td>\n",
       "      <td>207.995308</td>\n",
       "      <td>212.282823</td>\n",
       "      <td>203.557535</td>\n",
       "      <td>117.459384</td>\n",
       "      <td>0.000869</td>\n",
       "    </tr>\n",
       "    <tr>\n",
       "      <th>std</th>\n",
       "      <td>38.433817</td>\n",
       "      <td>38.433365</td>\n",
       "      <td>38.853357</td>\n",
       "      <td>37.971154</td>\n",
       "      <td>40.693217</td>\n",
       "      <td>0.037138</td>\n",
       "    </tr>\n",
       "    <tr>\n",
       "      <th>min</th>\n",
       "      <td>108.100000</td>\n",
       "      <td>103.000000</td>\n",
       "      <td>111.750000</td>\n",
       "      <td>101.810000</td>\n",
       "      <td>43.270000</td>\n",
       "      <td>-0.123300</td>\n",
       "    </tr>\n",
       "    <tr>\n",
       "      <th>25%</th>\n",
       "      <td>179.825000</td>\n",
       "      <td>179.500000</td>\n",
       "      <td>183.635000</td>\n",
       "      <td>175.790000</td>\n",
       "      <td>87.800000</td>\n",
       "      <td>-0.019800</td>\n",
       "    </tr>\n",
       "    <tr>\n",
       "      <th>50%</th>\n",
       "      <td>205.660000</td>\n",
       "      <td>204.040000</td>\n",
       "      <td>208.900000</td>\n",
       "      <td>198.450000</td>\n",
       "      <td>111.510000</td>\n",
       "      <td>0.000800</td>\n",
       "    </tr>\n",
       "    <tr>\n",
       "      <th>75%</th>\n",
       "      <td>241.050000</td>\n",
       "      <td>241.925000</td>\n",
       "      <td>246.615000</td>\n",
       "      <td>237.215000</td>\n",
       "      <td>137.785000</td>\n",
       "      <td>0.018650</td>\n",
       "    </tr>\n",
       "    <tr>\n",
       "      <th>max</th>\n",
       "      <td>293.340000</td>\n",
       "      <td>296.040000</td>\n",
       "      <td>299.290000</td>\n",
       "      <td>289.520000</td>\n",
       "      <td>306.590000</td>\n",
       "      <td>0.219200</td>\n",
       "    </tr>\n",
       "  </tbody>\n",
       "</table>\n",
       "</div>"
      ],
      "text/plain": [
       "            Price        Open        High         Low  Vol.(millions)  \\\n",
       "count  503.000000  503.000000  503.000000  503.000000      503.000000   \n",
       "mean   207.977654  207.995308  212.282823  203.557535      117.459384   \n",
       "std     38.433817   38.433365   38.853357   37.971154       40.693217   \n",
       "min    108.100000  103.000000  111.750000  101.810000       43.270000   \n",
       "25%    179.825000  179.500000  183.635000  175.790000       87.800000   \n",
       "50%    205.660000  204.040000  208.900000  198.450000      111.510000   \n",
       "75%    241.050000  241.925000  246.615000  237.215000      137.785000   \n",
       "max    293.340000  296.040000  299.290000  289.520000      306.590000   \n",
       "\n",
       "           Change  \n",
       "count  503.000000  \n",
       "mean     0.000869  \n",
       "std      0.037138  \n",
       "min     -0.123300  \n",
       "25%     -0.019800  \n",
       "50%      0.000800  \n",
       "75%      0.018650  \n",
       "max      0.219200  "
      ]
     },
     "execution_count": 11,
     "metadata": {},
     "output_type": "execute_result"
    }
   ],
   "source": [
    "df.describe()"
   ]
  },
  {
   "cell_type": "markdown",
   "metadata": {
    "_cell_guid": "a537e1e1-cbc5-40fb-a13f-337b2d5bc72f",
    "_uuid": "9230f272-5c3a-4c5c-a89c-4b4b6339a8ed",
    "trusted": true
   },
   "source": [
    "To check whether there are any NULL values present in the dataset"
   ]
  },
  {
   "cell_type": "code",
   "execution_count": null,
   "metadata": {
    "_cell_guid": "e8cded32-f425-4cff-8938-758e475ac659",
    "_uuid": "5f5292f1-6d56-4ac4-b2f2-6f280cc447c5",
    "collapsed": false,
    "execution": {
     "iopub.execute_input": "2024-11-04T04:01:49.957907Z",
     "iopub.status.busy": "2024-11-04T04:01:49.956892Z",
     "iopub.status.idle": "2024-11-04T04:01:49.966507Z",
     "shell.execute_reply": "2024-11-04T04:01:49.965422Z",
     "shell.execute_reply.started": "2024-11-04T04:01:49.957856Z"
    },
    "jupyter": {
     "outputs_hidden": false
    },
    "trusted": true
   },
   "outputs": [
    {
     "data": {
      "text/plain": [
       "Date              0\n",
       "Price             0\n",
       "Open              0\n",
       "High              0\n",
       "Low               0\n",
       "Vol.(millions)    0\n",
       "Change            0\n",
       "dtype: int64"
      ]
     },
     "execution_count": 12,
     "metadata": {},
     "output_type": "execute_result"
    }
   ],
   "source": [
    "df.isnull().sum()"
   ]
  },
  {
   "cell_type": "markdown",
   "metadata": {
    "_cell_guid": "e1f80eb1-eb6a-4523-9808-d16cf007bcff",
    "_uuid": "27fae040-2dd8-40cd-aa3f-8b7051481e72",
    "trusted": true
   },
   "source": [
    "The date entries are not in the same format in the .csv file. \n",
    "Changing that to dd-mm-yyyy format"
   ]
  },
  {
   "cell_type": "code",
   "execution_count": null,
   "metadata": {
    "_cell_guid": "e8ffd848-c60e-4db9-aaed-1322b4dcf569",
    "_uuid": "5aaf0396-cd6d-4b27-9705-a2023c642e71",
    "collapsed": false,
    "execution": {
     "iopub.execute_input": "2024-11-04T04:02:08.437774Z",
     "iopub.status.busy": "2024-11-04T04:02:08.437356Z",
     "iopub.status.idle": "2024-11-04T04:02:08.447443Z",
     "shell.execute_reply": "2024-11-04T04:02:08.446393Z",
     "shell.execute_reply.started": "2024-11-04T04:02:08.437733Z"
    },
    "jupyter": {
     "outputs_hidden": false
    },
    "trusted": true
   },
   "outputs": [
    {
     "name": "stdout",
     "output_type": "stream",
     "text": [
      "0     2024-10-31\n",
      "1     2024-10-30\n",
      "2     2024-10-29\n",
      "3     2024-10-28\n",
      "4     2024-10-25\n",
      "         ...    \n",
      "498   2022-11-07\n",
      "499   2022-11-04\n",
      "500   2022-11-03\n",
      "501   2022-11-02\n",
      "502   2022-11-01\n",
      "Name: Date, Length: 503, dtype: datetime64[ns]\n"
     ]
    }
   ],
   "source": [
    "df['Date'] =pd.to_datetime(df.Date,format='mixed')\n",
    "print(df['Date'])"
   ]
  },
  {
   "cell_type": "code",
   "execution_count": null,
   "metadata": {
    "_cell_guid": "1062ede4-dc21-45ab-bb00-f4b7a5cef59c",
    "_uuid": "6d0afbaf-9295-410e-aa83-71a45a3febdf",
    "collapsed": false,
    "execution": {
     "iopub.execute_input": "2024-11-04T04:02:41.168646Z",
     "iopub.status.busy": "2024-11-04T04:02:41.168199Z",
     "iopub.status.idle": "2024-11-04T04:02:41.180378Z",
     "shell.execute_reply": "2024-11-04T04:02:41.179099Z",
     "shell.execute_reply.started": "2024-11-04T04:02:41.168603Z"
    },
    "jupyter": {
     "outputs_hidden": false
    },
    "trusted": true
   },
   "outputs": [
    {
     "name": "stdout",
     "output_type": "stream",
     "text": [
      "0      31/10/24\n",
      "1      30/10/24\n",
      "2      29/10/24\n",
      "3      28/10/24\n",
      "4      25/10/24\n",
      "         ...   \n",
      "498    07/11/22\n",
      "499    04/11/22\n",
      "500    03/11/22\n",
      "501    02/11/22\n",
      "502    01/11/22\n",
      "Name: Date, Length: 503, dtype: object\n"
     ]
    }
   ],
   "source": [
    "df['Date']=df['Date'].dt.strftime('%d/%m/%y')\n",
    "print(df['Date'])"
   ]
  },
  {
   "cell_type": "markdown",
   "metadata": {
    "_cell_guid": "fa03499d-f2ac-4744-97cb-b2a3db5086f9",
    "_uuid": "97aea54f-e524-4208-85b7-e50781353d5e",
    "trusted": true
   },
   "source": [
    "correlation formula\n",
    "![https://www.geeksforgeeks.org/wp-content/ql-cache/quicklatex.com-645e44c7cde6abdb5540e32f6c56811f_l3.svg](http://)"
   ]
  },
  {
   "cell_type": "markdown",
   "metadata": {
    "_cell_guid": "0807ce1a-a75c-4ccd-b926-0f5cc9a300b4",
    "_uuid": "e3a85e7d-0655-4915-8a4e-6b2f94f0ca22",
    "trusted": true
   },
   "source": [
    "Finding the correlation coefficients of some of the parameters in the dataset. Since there are less number of columns in the dataset, we can check correlations for many more fields"
   ]
  },
  {
   "cell_type": "markdown",
   "metadata": {
    "_cell_guid": "141c081c-6f9c-4150-aa09-d0bb805bab53",
    "_uuid": "e00aabf7-49ca-4e37-8713-9a38bb9f86a2",
    "trusted": true
   },
   "source": [
    "1. Check the correlation between the fields 'Price' and 'Change'"
   ]
  },
  {
   "cell_type": "code",
   "execution_count": null,
   "metadata": {
    "_cell_guid": "d298915b-5723-423d-93ad-28ae6a4f8617",
    "_uuid": "854da91c-88b2-48fc-ba93-673f70761601",
    "collapsed": false,
    "execution": {
     "iopub.status.busy": "2024-11-04T03:54:26.307239Z",
     "iopub.status.idle": "2024-11-04T03:54:26.307695Z",
     "shell.execute_reply": "2024-11-04T03:54:26.307515Z",
     "shell.execute_reply.started": "2024-11-04T03:54:26.307490Z"
    },
    "jupyter": {
     "outputs_hidden": false
    },
    "trusted": true
   },
   "outputs": [],
   "source": [
    "# df.rename(columns={'Change %':'Change'},inplace=True)"
   ]
  },
  {
   "cell_type": "code",
   "execution_count": null,
   "metadata": {
    "_cell_guid": "b00ad4ba-8638-488d-ac3d-f9d3195c48cb",
    "_uuid": "34419089-2c21-4c00-94a6-2e2037a6315e",
    "collapsed": false,
    "execution": {
     "iopub.execute_input": "2024-11-04T04:02:54.023267Z",
     "iopub.status.busy": "2024-11-04T04:02:54.022384Z",
     "iopub.status.idle": "2024-11-04T04:02:54.044016Z",
     "shell.execute_reply": "2024-11-04T04:02:54.042689Z",
     "shell.execute_reply.started": "2024-11-04T04:02:54.023207Z"
    },
    "jupyter": {
     "outputs_hidden": false
    },
    "trusted": true
   },
   "outputs": [
    {
     "name": "stdout",
     "output_type": "stream",
     "text": [
      "      Price  Change\n",
      "0    249.85 -0.0299\n",
      "1    257.55 -0.0076\n",
      "2    259.52 -0.0114\n",
      "3    262.51 -0.0248\n",
      "4    269.19  0.0334\n",
      "..      ...     ...\n",
      "498  197.08 -0.0501\n",
      "499  207.47 -0.0364\n",
      "500  215.31  0.0015\n",
      "501  214.98 -0.0564\n",
      "502  227.82  0.0012\n",
      "\n",
      "[503 rows x 2 columns]\n"
     ]
    }
   ],
   "source": [
    "corr1_df=pd.read_csv('/kaggle/input/tesla-stock-2022-2024/TSLA Historical Data (1).csv',usecols=['Price','Change'])\n",
    "print(corr1_df)"
   ]
  },
  {
   "cell_type": "code",
   "execution_count": null,
   "metadata": {
    "_cell_guid": "7bc078a5-88ae-42b9-920f-931b61187238",
    "_uuid": "9f52e56b-5eed-4f97-9035-be7ce06dea79",
    "collapsed": false,
    "execution": {
     "iopub.execute_input": "2024-11-04T04:02:56.460003Z",
     "iopub.status.busy": "2024-11-04T04:02:56.459118Z",
     "iopub.status.idle": "2024-11-04T04:02:56.468755Z",
     "shell.execute_reply": "2024-11-04T04:02:56.467569Z",
     "shell.execute_reply.started": "2024-11-04T04:02:56.459948Z"
    },
    "jupyter": {
     "outputs_hidden": false
    },
    "trusted": true
   },
   "outputs": [
    {
     "name": "stdout",
     "output_type": "stream",
     "text": [
      "           Price    Change\n",
      "Price   1.000000  0.096188\n",
      "Change  0.096188  1.000000\n"
     ]
    }
   ],
   "source": [
    "print(corr1_df.corr())"
   ]
  },
  {
   "cell_type": "markdown",
   "metadata": {
    "_cell_guid": "7b1161fc-33d5-4d31-8c5c-363c85075e7f",
    "_uuid": "f1a27836-29aa-40db-bd1a-1a6184a112cd",
    "trusted": true
   },
   "source": [
    "In the output above, the correlation between 'Change' and 'Price is ~0.1, hence there is no significant correlation between the two"
   ]
  },
  {
   "cell_type": "markdown",
   "metadata": {
    "_cell_guid": "14eff645-a6f5-47e9-91ea-f83de5c41edf",
    "_uuid": "37fb2b00-6b87-433e-ae88-03afcfe00e91",
    "trusted": true
   },
   "source": [
    "2. Check the correlation between the fields 'Open' and 'Change'"
   ]
  },
  {
   "cell_type": "code",
   "execution_count": null,
   "metadata": {
    "_cell_guid": "025a16d4-22e1-4e18-9c1b-411c4f08c5c9",
    "_uuid": "a1acd821-022d-4357-9a4d-43e161336481",
    "collapsed": false,
    "execution": {
     "iopub.execute_input": "2024-11-04T08:33:57.102010Z",
     "iopub.status.busy": "2024-11-04T08:33:57.101543Z",
     "iopub.status.idle": "2024-11-04T08:33:57.117482Z",
     "shell.execute_reply": "2024-11-04T08:33:57.115941Z",
     "shell.execute_reply.started": "2024-11-04T08:33:57.101967Z"
    },
    "jupyter": {
     "outputs_hidden": false
    },
    "trusted": true
   },
   "outputs": [
    {
     "name": "stdout",
     "output_type": "stream",
     "text": [
      "       Open  Change\n",
      "0    257.99 -0.0299\n",
      "1    258.04 -0.0076\n",
      "2    264.51 -0.0114\n",
      "3    270.00 -0.0248\n",
      "4    256.01  0.0334\n",
      "..      ...     ...\n",
      "498  208.65 -0.0501\n",
      "499  222.60 -0.0364\n",
      "500  211.36  0.0015\n",
      "501  226.04 -0.0564\n",
      "502  234.05  0.0012\n",
      "\n",
      "[503 rows x 2 columns]\n"
     ]
    }
   ],
   "source": [
    "corr1_df=pd.read_csv('/kaggle/input/tesla-stock-2022-2024/TSLA Historical Data (1).csv',usecols=['Open','Change'])\n",
    "print(corr1_df)"
   ]
  },
  {
   "cell_type": "code",
   "execution_count": null,
   "metadata": {
    "_cell_guid": "030bf544-7186-45a6-bd29-c302ca11a4d6",
    "_uuid": "bbb99107-6417-4567-9636-87d11b8fd6fc",
    "collapsed": false,
    "execution": {
     "iopub.execute_input": "2024-11-04T08:34:00.101982Z",
     "iopub.status.busy": "2024-11-04T08:34:00.101605Z",
     "iopub.status.idle": "2024-11-04T08:34:00.109763Z",
     "shell.execute_reply": "2024-11-04T08:34:00.108660Z",
     "shell.execute_reply.started": "2024-11-04T08:34:00.101947Z"
    },
    "jupyter": {
     "outputs_hidden": false
    },
    "trusted": true
   },
   "outputs": [
    {
     "name": "stdout",
     "output_type": "stream",
     "text": [
      "            Open    Change\n",
      "Open    1.000000 -0.020593\n",
      "Change -0.020593  1.000000\n"
     ]
    }
   ],
   "source": [
    "print(corr1_df.corr())"
   ]
  },
  {
   "cell_type": "markdown",
   "metadata": {
    "_cell_guid": "38d373fe-ec7a-4b0d-a987-3a68241329b1",
    "_uuid": "585d0779-0a75-4962-82f7-2b3e96dbfbb8",
    "trusted": true
   },
   "source": [
    "In the output above, the correlation between 'Change' and 'Open' is ~0.02, hence there is no significant correlation between the two"
   ]
  },
  {
   "cell_type": "markdown",
   "metadata": {
    "_cell_guid": "a66a05df-37b3-4adb-a7be-747e3ba4dbf6",
    "_uuid": "8726b989-2f57-43c1-9dfc-b72fcc3df242",
    "trusted": true
   },
   "source": [
    "3. Check the correlation between the fields 'High' and 'Change'"
   ]
  },
  {
   "cell_type": "code",
   "execution_count": null,
   "metadata": {
    "_cell_guid": "d6e68011-83da-440b-9dd5-3ffa30690c5e",
    "_uuid": "dae4db8e-1b93-4642-8c9d-d017509d3997",
    "collapsed": false,
    "execution": {
     "iopub.execute_input": "2024-11-04T04:03:25.852614Z",
     "iopub.status.busy": "2024-11-04T04:03:25.851636Z",
     "iopub.status.idle": "2024-11-04T04:03:25.866143Z",
     "shell.execute_reply": "2024-11-04T04:03:25.865092Z",
     "shell.execute_reply.started": "2024-11-04T04:03:25.852567Z"
    },
    "jupyter": {
     "outputs_hidden": false
    },
    "trusted": true
   },
   "outputs": [
    {
     "name": "stdout",
     "output_type": "stream",
     "text": [
      "       High  Change\n",
      "0    259.75 -0.0299\n",
      "1    263.35 -0.0076\n",
      "2    264.98 -0.0114\n",
      "3    273.54 -0.0248\n",
      "4    269.49  0.0334\n",
      "..      ...     ...\n",
      "498  208.90 -0.0501\n",
      "499  223.80 -0.0364\n",
      "500  221.20  0.0015\n",
      "501  227.87 -0.0564\n",
      "502  237.40  0.0012\n",
      "\n",
      "[503 rows x 2 columns]\n"
     ]
    }
   ],
   "source": [
    "corr1_df=pd.read_csv('/kaggle/input/tesla-stock-2022-2024/TSLA Historical Data (1).csv',usecols=['High','Change'])\n",
    "print(corr1_df)"
   ]
  },
  {
   "cell_type": "code",
   "execution_count": null,
   "metadata": {
    "_cell_guid": "d79d9927-5048-48e1-a86d-1444b722448c",
    "_uuid": "b8a19ceb-37a8-4d0f-8e62-e187b07e18b5",
    "collapsed": false,
    "execution": {
     "iopub.execute_input": "2024-11-04T04:03:33.083913Z",
     "iopub.status.busy": "2024-11-04T04:03:33.083088Z",
     "iopub.status.idle": "2024-11-04T04:03:33.091234Z",
     "shell.execute_reply": "2024-11-04T04:03:33.089991Z",
     "shell.execute_reply.started": "2024-11-04T04:03:33.083872Z"
    },
    "jupyter": {
     "outputs_hidden": false
    },
    "trusted": true
   },
   "outputs": [
    {
     "name": "stdout",
     "output_type": "stream",
     "text": [
      "            High    Change\n",
      "High    1.000000  0.033792\n",
      "Change  0.033792  1.000000\n"
     ]
    }
   ],
   "source": [
    "print(corr1_df.corr())"
   ]
  },
  {
   "cell_type": "markdown",
   "metadata": {
    "_cell_guid": "768b3490-f511-49bc-a89c-53b8bea681ea",
    "_uuid": "14b8320f-d4fc-462b-88bc-4d59f16b517c",
    "trusted": true
   },
   "source": [
    "In the output above, the correlation between 'Change' and 'High' is ~0.03, hence there is no significant correlation between the two"
   ]
  },
  {
   "cell_type": "markdown",
   "metadata": {
    "_cell_guid": "7680fafc-4afd-4514-8e98-ca99dae4a030",
    "_uuid": "d88e0e18-a44a-487a-857c-234c5c8eacf4",
    "trusted": true
   },
   "source": [
    "4. Check the correlation between the fields 'Low' and 'Change'"
   ]
  },
  {
   "cell_type": "code",
   "execution_count": 6,
   "metadata": {
    "_cell_guid": "a616ea96-8931-4f7e-a1ec-8a023aa24efd",
    "_uuid": "52f0a715-8dee-4b3e-8cb3-f8dbdd2a716c",
    "collapsed": false,
    "execution": {
     "iopub.execute_input": "2024-11-04T08:34:17.709240Z",
     "iopub.status.busy": "2024-11-04T08:34:17.708813Z",
     "iopub.status.idle": "2024-11-04T08:34:17.722147Z",
     "shell.execute_reply": "2024-11-04T08:34:17.720749Z",
     "shell.execute_reply.started": "2024-11-04T08:34:17.709199Z"
    },
    "jupyter": {
     "outputs_hidden": false
    },
    "trusted": true
   },
   "outputs": [
    {
     "ename": "FileNotFoundError",
     "evalue": "[Errno 2] No such file or directory: '/kaggle/input/tesla-stock-2022-2024/TSLA Historical Data (1).csv'",
     "output_type": "error",
     "traceback": [
      "\u001b[1;31m---------------------------------------------------------------------------\u001b[0m",
      "\u001b[1;31mFileNotFoundError\u001b[0m                         Traceback (most recent call last)",
      "Cell \u001b[1;32mIn[6], line 1\u001b[0m\n\u001b[1;32m----> 1\u001b[0m corr1_df\u001b[38;5;241m=\u001b[39m\u001b[43mpd\u001b[49m\u001b[38;5;241;43m.\u001b[39;49m\u001b[43mread_csv\u001b[49m\u001b[43m(\u001b[49m\u001b[38;5;124;43m'\u001b[39;49m\u001b[38;5;124;43m/kaggle/input/tesla-stock-2022-2024/TSLA Historical Data (1).csv\u001b[39;49m\u001b[38;5;124;43m'\u001b[39;49m\u001b[43m,\u001b[49m\u001b[43musecols\u001b[49m\u001b[38;5;241;43m=\u001b[39;49m\u001b[43m[\u001b[49m\u001b[38;5;124;43m'\u001b[39;49m\u001b[38;5;124;43mLow\u001b[39;49m\u001b[38;5;124;43m'\u001b[39;49m\u001b[43m,\u001b[49m\u001b[38;5;124;43m'\u001b[39;49m\u001b[38;5;124;43mChange\u001b[39;49m\u001b[38;5;124;43m'\u001b[39;49m\u001b[43m]\u001b[49m\u001b[43m)\u001b[49m\n\u001b[0;32m      2\u001b[0m \u001b[38;5;28mprint\u001b[39m(corr1_df)\n",
      "File \u001b[1;32m~\\AppData\\Roaming\\Python\\Python312\\site-packages\\pandas\\io\\parsers\\readers.py:1026\u001b[0m, in \u001b[0;36mread_csv\u001b[1;34m(filepath_or_buffer, sep, delimiter, header, names, index_col, usecols, dtype, engine, converters, true_values, false_values, skipinitialspace, skiprows, skipfooter, nrows, na_values, keep_default_na, na_filter, verbose, skip_blank_lines, parse_dates, infer_datetime_format, keep_date_col, date_parser, date_format, dayfirst, cache_dates, iterator, chunksize, compression, thousands, decimal, lineterminator, quotechar, quoting, doublequote, escapechar, comment, encoding, encoding_errors, dialect, on_bad_lines, delim_whitespace, low_memory, memory_map, float_precision, storage_options, dtype_backend)\u001b[0m\n\u001b[0;32m   1013\u001b[0m kwds_defaults \u001b[38;5;241m=\u001b[39m _refine_defaults_read(\n\u001b[0;32m   1014\u001b[0m     dialect,\n\u001b[0;32m   1015\u001b[0m     delimiter,\n\u001b[1;32m   (...)\u001b[0m\n\u001b[0;32m   1022\u001b[0m     dtype_backend\u001b[38;5;241m=\u001b[39mdtype_backend,\n\u001b[0;32m   1023\u001b[0m )\n\u001b[0;32m   1024\u001b[0m kwds\u001b[38;5;241m.\u001b[39mupdate(kwds_defaults)\n\u001b[1;32m-> 1026\u001b[0m \u001b[38;5;28;01mreturn\u001b[39;00m \u001b[43m_read\u001b[49m\u001b[43m(\u001b[49m\u001b[43mfilepath_or_buffer\u001b[49m\u001b[43m,\u001b[49m\u001b[43m \u001b[49m\u001b[43mkwds\u001b[49m\u001b[43m)\u001b[49m\n",
      "File \u001b[1;32m~\\AppData\\Roaming\\Python\\Python312\\site-packages\\pandas\\io\\parsers\\readers.py:620\u001b[0m, in \u001b[0;36m_read\u001b[1;34m(filepath_or_buffer, kwds)\u001b[0m\n\u001b[0;32m    617\u001b[0m _validate_names(kwds\u001b[38;5;241m.\u001b[39mget(\u001b[38;5;124m\"\u001b[39m\u001b[38;5;124mnames\u001b[39m\u001b[38;5;124m\"\u001b[39m, \u001b[38;5;28;01mNone\u001b[39;00m))\n\u001b[0;32m    619\u001b[0m \u001b[38;5;66;03m# Create the parser.\u001b[39;00m\n\u001b[1;32m--> 620\u001b[0m parser \u001b[38;5;241m=\u001b[39m \u001b[43mTextFileReader\u001b[49m\u001b[43m(\u001b[49m\u001b[43mfilepath_or_buffer\u001b[49m\u001b[43m,\u001b[49m\u001b[43m \u001b[49m\u001b[38;5;241;43m*\u001b[39;49m\u001b[38;5;241;43m*\u001b[39;49m\u001b[43mkwds\u001b[49m\u001b[43m)\u001b[49m\n\u001b[0;32m    622\u001b[0m \u001b[38;5;28;01mif\u001b[39;00m chunksize \u001b[38;5;129;01mor\u001b[39;00m iterator:\n\u001b[0;32m    623\u001b[0m     \u001b[38;5;28;01mreturn\u001b[39;00m parser\n",
      "File \u001b[1;32m~\\AppData\\Roaming\\Python\\Python312\\site-packages\\pandas\\io\\parsers\\readers.py:1620\u001b[0m, in \u001b[0;36mTextFileReader.__init__\u001b[1;34m(self, f, engine, **kwds)\u001b[0m\n\u001b[0;32m   1617\u001b[0m     \u001b[38;5;28mself\u001b[39m\u001b[38;5;241m.\u001b[39moptions[\u001b[38;5;124m\"\u001b[39m\u001b[38;5;124mhas_index_names\u001b[39m\u001b[38;5;124m\"\u001b[39m] \u001b[38;5;241m=\u001b[39m kwds[\u001b[38;5;124m\"\u001b[39m\u001b[38;5;124mhas_index_names\u001b[39m\u001b[38;5;124m\"\u001b[39m]\n\u001b[0;32m   1619\u001b[0m \u001b[38;5;28mself\u001b[39m\u001b[38;5;241m.\u001b[39mhandles: IOHandles \u001b[38;5;241m|\u001b[39m \u001b[38;5;28;01mNone\u001b[39;00m \u001b[38;5;241m=\u001b[39m \u001b[38;5;28;01mNone\u001b[39;00m\n\u001b[1;32m-> 1620\u001b[0m \u001b[38;5;28mself\u001b[39m\u001b[38;5;241m.\u001b[39m_engine \u001b[38;5;241m=\u001b[39m \u001b[38;5;28;43mself\u001b[39;49m\u001b[38;5;241;43m.\u001b[39;49m\u001b[43m_make_engine\u001b[49m\u001b[43m(\u001b[49m\u001b[43mf\u001b[49m\u001b[43m,\u001b[49m\u001b[43m \u001b[49m\u001b[38;5;28;43mself\u001b[39;49m\u001b[38;5;241;43m.\u001b[39;49m\u001b[43mengine\u001b[49m\u001b[43m)\u001b[49m\n",
      "File \u001b[1;32m~\\AppData\\Roaming\\Python\\Python312\\site-packages\\pandas\\io\\parsers\\readers.py:1880\u001b[0m, in \u001b[0;36mTextFileReader._make_engine\u001b[1;34m(self, f, engine)\u001b[0m\n\u001b[0;32m   1878\u001b[0m     \u001b[38;5;28;01mif\u001b[39;00m \u001b[38;5;124m\"\u001b[39m\u001b[38;5;124mb\u001b[39m\u001b[38;5;124m\"\u001b[39m \u001b[38;5;129;01mnot\u001b[39;00m \u001b[38;5;129;01min\u001b[39;00m mode:\n\u001b[0;32m   1879\u001b[0m         mode \u001b[38;5;241m+\u001b[39m\u001b[38;5;241m=\u001b[39m \u001b[38;5;124m\"\u001b[39m\u001b[38;5;124mb\u001b[39m\u001b[38;5;124m\"\u001b[39m\n\u001b[1;32m-> 1880\u001b[0m \u001b[38;5;28mself\u001b[39m\u001b[38;5;241m.\u001b[39mhandles \u001b[38;5;241m=\u001b[39m \u001b[43mget_handle\u001b[49m\u001b[43m(\u001b[49m\n\u001b[0;32m   1881\u001b[0m \u001b[43m    \u001b[49m\u001b[43mf\u001b[49m\u001b[43m,\u001b[49m\n\u001b[0;32m   1882\u001b[0m \u001b[43m    \u001b[49m\u001b[43mmode\u001b[49m\u001b[43m,\u001b[49m\n\u001b[0;32m   1883\u001b[0m \u001b[43m    \u001b[49m\u001b[43mencoding\u001b[49m\u001b[38;5;241;43m=\u001b[39;49m\u001b[38;5;28;43mself\u001b[39;49m\u001b[38;5;241;43m.\u001b[39;49m\u001b[43moptions\u001b[49m\u001b[38;5;241;43m.\u001b[39;49m\u001b[43mget\u001b[49m\u001b[43m(\u001b[49m\u001b[38;5;124;43m\"\u001b[39;49m\u001b[38;5;124;43mencoding\u001b[39;49m\u001b[38;5;124;43m\"\u001b[39;49m\u001b[43m,\u001b[49m\u001b[43m \u001b[49m\u001b[38;5;28;43;01mNone\u001b[39;49;00m\u001b[43m)\u001b[49m\u001b[43m,\u001b[49m\n\u001b[0;32m   1884\u001b[0m \u001b[43m    \u001b[49m\u001b[43mcompression\u001b[49m\u001b[38;5;241;43m=\u001b[39;49m\u001b[38;5;28;43mself\u001b[39;49m\u001b[38;5;241;43m.\u001b[39;49m\u001b[43moptions\u001b[49m\u001b[38;5;241;43m.\u001b[39;49m\u001b[43mget\u001b[49m\u001b[43m(\u001b[49m\u001b[38;5;124;43m\"\u001b[39;49m\u001b[38;5;124;43mcompression\u001b[39;49m\u001b[38;5;124;43m\"\u001b[39;49m\u001b[43m,\u001b[49m\u001b[43m \u001b[49m\u001b[38;5;28;43;01mNone\u001b[39;49;00m\u001b[43m)\u001b[49m\u001b[43m,\u001b[49m\n\u001b[0;32m   1885\u001b[0m \u001b[43m    \u001b[49m\u001b[43mmemory_map\u001b[49m\u001b[38;5;241;43m=\u001b[39;49m\u001b[38;5;28;43mself\u001b[39;49m\u001b[38;5;241;43m.\u001b[39;49m\u001b[43moptions\u001b[49m\u001b[38;5;241;43m.\u001b[39;49m\u001b[43mget\u001b[49m\u001b[43m(\u001b[49m\u001b[38;5;124;43m\"\u001b[39;49m\u001b[38;5;124;43mmemory_map\u001b[39;49m\u001b[38;5;124;43m\"\u001b[39;49m\u001b[43m,\u001b[49m\u001b[43m \u001b[49m\u001b[38;5;28;43;01mFalse\u001b[39;49;00m\u001b[43m)\u001b[49m\u001b[43m,\u001b[49m\n\u001b[0;32m   1886\u001b[0m \u001b[43m    \u001b[49m\u001b[43mis_text\u001b[49m\u001b[38;5;241;43m=\u001b[39;49m\u001b[43mis_text\u001b[49m\u001b[43m,\u001b[49m\n\u001b[0;32m   1887\u001b[0m \u001b[43m    \u001b[49m\u001b[43merrors\u001b[49m\u001b[38;5;241;43m=\u001b[39;49m\u001b[38;5;28;43mself\u001b[39;49m\u001b[38;5;241;43m.\u001b[39;49m\u001b[43moptions\u001b[49m\u001b[38;5;241;43m.\u001b[39;49m\u001b[43mget\u001b[49m\u001b[43m(\u001b[49m\u001b[38;5;124;43m\"\u001b[39;49m\u001b[38;5;124;43mencoding_errors\u001b[39;49m\u001b[38;5;124;43m\"\u001b[39;49m\u001b[43m,\u001b[49m\u001b[43m \u001b[49m\u001b[38;5;124;43m\"\u001b[39;49m\u001b[38;5;124;43mstrict\u001b[39;49m\u001b[38;5;124;43m\"\u001b[39;49m\u001b[43m)\u001b[49m\u001b[43m,\u001b[49m\n\u001b[0;32m   1888\u001b[0m \u001b[43m    \u001b[49m\u001b[43mstorage_options\u001b[49m\u001b[38;5;241;43m=\u001b[39;49m\u001b[38;5;28;43mself\u001b[39;49m\u001b[38;5;241;43m.\u001b[39;49m\u001b[43moptions\u001b[49m\u001b[38;5;241;43m.\u001b[39;49m\u001b[43mget\u001b[49m\u001b[43m(\u001b[49m\u001b[38;5;124;43m\"\u001b[39;49m\u001b[38;5;124;43mstorage_options\u001b[39;49m\u001b[38;5;124;43m\"\u001b[39;49m\u001b[43m,\u001b[49m\u001b[43m \u001b[49m\u001b[38;5;28;43;01mNone\u001b[39;49;00m\u001b[43m)\u001b[49m\u001b[43m,\u001b[49m\n\u001b[0;32m   1889\u001b[0m \u001b[43m\u001b[49m\u001b[43m)\u001b[49m\n\u001b[0;32m   1890\u001b[0m \u001b[38;5;28;01massert\u001b[39;00m \u001b[38;5;28mself\u001b[39m\u001b[38;5;241m.\u001b[39mhandles \u001b[38;5;129;01mis\u001b[39;00m \u001b[38;5;129;01mnot\u001b[39;00m \u001b[38;5;28;01mNone\u001b[39;00m\n\u001b[0;32m   1891\u001b[0m f \u001b[38;5;241m=\u001b[39m \u001b[38;5;28mself\u001b[39m\u001b[38;5;241m.\u001b[39mhandles\u001b[38;5;241m.\u001b[39mhandle\n",
      "File \u001b[1;32m~\\AppData\\Roaming\\Python\\Python312\\site-packages\\pandas\\io\\common.py:873\u001b[0m, in \u001b[0;36mget_handle\u001b[1;34m(path_or_buf, mode, encoding, compression, memory_map, is_text, errors, storage_options)\u001b[0m\n\u001b[0;32m    868\u001b[0m \u001b[38;5;28;01melif\u001b[39;00m \u001b[38;5;28misinstance\u001b[39m(handle, \u001b[38;5;28mstr\u001b[39m):\n\u001b[0;32m    869\u001b[0m     \u001b[38;5;66;03m# Check whether the filename is to be opened in binary mode.\u001b[39;00m\n\u001b[0;32m    870\u001b[0m     \u001b[38;5;66;03m# Binary mode does not support 'encoding' and 'newline'.\u001b[39;00m\n\u001b[0;32m    871\u001b[0m     \u001b[38;5;28;01mif\u001b[39;00m ioargs\u001b[38;5;241m.\u001b[39mencoding \u001b[38;5;129;01mand\u001b[39;00m \u001b[38;5;124m\"\u001b[39m\u001b[38;5;124mb\u001b[39m\u001b[38;5;124m\"\u001b[39m \u001b[38;5;129;01mnot\u001b[39;00m \u001b[38;5;129;01min\u001b[39;00m ioargs\u001b[38;5;241m.\u001b[39mmode:\n\u001b[0;32m    872\u001b[0m         \u001b[38;5;66;03m# Encoding\u001b[39;00m\n\u001b[1;32m--> 873\u001b[0m         handle \u001b[38;5;241m=\u001b[39m \u001b[38;5;28;43mopen\u001b[39;49m\u001b[43m(\u001b[49m\n\u001b[0;32m    874\u001b[0m \u001b[43m            \u001b[49m\u001b[43mhandle\u001b[49m\u001b[43m,\u001b[49m\n\u001b[0;32m    875\u001b[0m \u001b[43m            \u001b[49m\u001b[43mioargs\u001b[49m\u001b[38;5;241;43m.\u001b[39;49m\u001b[43mmode\u001b[49m\u001b[43m,\u001b[49m\n\u001b[0;32m    876\u001b[0m \u001b[43m            \u001b[49m\u001b[43mencoding\u001b[49m\u001b[38;5;241;43m=\u001b[39;49m\u001b[43mioargs\u001b[49m\u001b[38;5;241;43m.\u001b[39;49m\u001b[43mencoding\u001b[49m\u001b[43m,\u001b[49m\n\u001b[0;32m    877\u001b[0m \u001b[43m            \u001b[49m\u001b[43merrors\u001b[49m\u001b[38;5;241;43m=\u001b[39;49m\u001b[43merrors\u001b[49m\u001b[43m,\u001b[49m\n\u001b[0;32m    878\u001b[0m \u001b[43m            \u001b[49m\u001b[43mnewline\u001b[49m\u001b[38;5;241;43m=\u001b[39;49m\u001b[38;5;124;43m\"\u001b[39;49m\u001b[38;5;124;43m\"\u001b[39;49m\u001b[43m,\u001b[49m\n\u001b[0;32m    879\u001b[0m \u001b[43m        \u001b[49m\u001b[43m)\u001b[49m\n\u001b[0;32m    880\u001b[0m     \u001b[38;5;28;01melse\u001b[39;00m:\n\u001b[0;32m    881\u001b[0m         \u001b[38;5;66;03m# Binary mode\u001b[39;00m\n\u001b[0;32m    882\u001b[0m         handle \u001b[38;5;241m=\u001b[39m \u001b[38;5;28mopen\u001b[39m(handle, ioargs\u001b[38;5;241m.\u001b[39mmode)\n",
      "\u001b[1;31mFileNotFoundError\u001b[0m: [Errno 2] No such file or directory: '/kaggle/input/tesla-stock-2022-2024/TSLA Historical Data (1).csv'"
     ]
    }
   ],
   "source": [
    "corr1_df=pd.read_csv('/kaggle/input/tesla-stock-2022-2024/TSLA Historical Data (1).csv',usecols=['Low','Change'])\n",
    "print(corr1_df)"
   ]
  },
  {
   "cell_type": "code",
   "execution_count": 5,
   "metadata": {
    "_cell_guid": "4af518f7-b00e-4017-aefc-ae78bc942dab",
    "_uuid": "29b5703f-216f-415c-9dee-f6c4c5ca85f8",
    "collapsed": false,
    "execution": {
     "iopub.execute_input": "2024-11-04T08:34:20.142171Z",
     "iopub.status.busy": "2024-11-04T08:34:20.141771Z",
     "iopub.status.idle": "2024-11-04T08:34:20.150313Z",
     "shell.execute_reply": "2024-11-04T08:34:20.148972Z",
     "shell.execute_reply.started": "2024-11-04T08:34:20.142133Z"
    },
    "jupyter": {
     "outputs_hidden": false
    },
    "trusted": true
   },
   "outputs": [
    {
     "ename": "NameError",
     "evalue": "name 'corr1_df' is not defined",
     "output_type": "error",
     "traceback": [
      "\u001b[1;31m---------------------------------------------------------------------------\u001b[0m",
      "\u001b[1;31mNameError\u001b[0m                                 Traceback (most recent call last)",
      "Cell \u001b[1;32mIn[5], line 1\u001b[0m\n\u001b[1;32m----> 1\u001b[0m \u001b[38;5;28mprint\u001b[39m(\u001b[43mcorr1_df\u001b[49m\u001b[38;5;241m.\u001b[39mcorr())\n",
      "\u001b[1;31mNameError\u001b[0m: name 'corr1_df' is not defined"
     ]
    }
   ],
   "source": [
    "print(corr1_df.corr())"
   ]
  },
  {
   "cell_type": "markdown",
   "metadata": {
    "_cell_guid": "3959b3cb-9186-4bd2-a0c3-6988f1ae9621",
    "_uuid": "d9d24e2f-35fd-4cc2-b7a7-a77c4079b464",
    "trusted": true
   },
   "source": [
    "In the output above, the correlation between 'Change' and 'Low' is ~0.04, hence there is no significant correlation between the two"
   ]
  },
  {
   "cell_type": "markdown",
   "metadata": {
    "_cell_guid": "8aa8b0f2-b413-4873-a1f8-3c87149d21a0",
    "_uuid": "c8c15e68-02a5-4da4-9e64-d11bb6dbb512",
    "trusted": true
   },
   "source": [
    "5. Check the correlation between the fields 'Vol.' and 'Change'"
   ]
  },
  {
   "cell_type": "code",
   "execution_count": null,
   "metadata": {
    "execution": {
     "iopub.execute_input": "2024-11-04T08:16:50.828253Z",
     "iopub.status.busy": "2024-11-04T08:16:50.827806Z",
     "iopub.status.idle": "2024-11-04T08:16:50.841446Z",
     "shell.execute_reply": "2024-11-04T08:16:50.840087Z",
     "shell.execute_reply.started": "2024-11-04T08:16:50.828213Z"
    },
    "trusted": true
   },
   "outputs": [
    {
     "name": "stdout",
     "output_type": "stream",
     "text": [
      "     Vol.(millions)  Change\n",
      "0             66.58 -0.0299\n",
      "1             53.99 -0.0076\n",
      "2             80.52 -0.0114\n",
      "3            107.65 -0.0248\n",
      "4            161.61  0.0334\n",
      "..              ...     ...\n",
      "498           93.92 -0.0501\n",
      "499           98.62 -0.0364\n",
      "500           56.54  0.0015\n",
      "501           63.07 -0.0564\n",
      "502           62.69  0.0012\n",
      "\n",
      "[503 rows x 2 columns]\n"
     ]
    }
   ],
   "source": [
    "corr1_df=pd.read_csv('/kaggle/input/tesla-stock-2022-2024/TSLA Historical Data (1).csv',usecols=['Vol.(millions)','Change'])\n",
    "print(corr1_df)"
   ]
  },
  {
   "cell_type": "code",
   "execution_count": null,
   "metadata": {
    "execution": {
     "iopub.execute_input": "2024-11-04T08:01:14.542213Z",
     "iopub.status.busy": "2024-11-04T08:01:14.541817Z",
     "iopub.status.idle": "2024-11-04T08:01:14.551237Z",
     "shell.execute_reply": "2024-11-04T08:01:14.549909Z",
     "shell.execute_reply.started": "2024-11-04T08:01:14.542174Z"
    },
    "trusted": true
   },
   "outputs": [
    {
     "ename": "NameError",
     "evalue": "name 'corr1_df' is not defined",
     "output_type": "error",
     "traceback": [
      "\u001b[1;31m---------------------------------------------------------------------------\u001b[0m",
      "\u001b[1;31mNameError\u001b[0m                                 Traceback (most recent call last)",
      "Cell \u001b[1;32mIn[1], line 1\u001b[0m\n\u001b[1;32m----> 1\u001b[0m \u001b[38;5;28mprint\u001b[39m(\u001b[43mcorr1_df\u001b[49m\u001b[38;5;241m.\u001b[39mcorr())\n",
      "\u001b[1;31mNameError\u001b[0m: name 'corr1_df' is not defined"
     ]
    }
   ],
   "source": [
    "print(corr1_df.corr())"
   ]
  },
  {
   "cell_type": "code",
   "execution_count": null,
   "metadata": {
    "_cell_guid": "9bdb851c-b0bd-40e7-b5a5-f9869a78c91c",
    "_uuid": "6d428123-3168-44e4-810d-45183269f31b",
    "collapsed": false,
    "execution": {
     "iopub.execute_input": "2024-11-04T08:17:13.968056Z",
     "iopub.status.busy": "2024-11-04T08:17:13.967627Z",
     "iopub.status.idle": "2024-11-04T08:17:13.981909Z",
     "shell.execute_reply": "2024-11-04T08:17:13.980588Z",
     "shell.execute_reply.started": "2024-11-04T08:17:13.968017Z"
    },
    "jupyter": {
     "outputs_hidden": false
    },
    "trusted": true
   },
   "outputs": [
    {
     "name": "stdout",
     "output_type": "stream",
     "text": [
      "     Vol.(millions)  Change\n",
      "0             66.58  0.0299\n",
      "1             53.99  0.0076\n",
      "2             80.52  0.0114\n",
      "3            107.65  0.0248\n",
      "4            161.61  0.0334\n",
      "..              ...     ...\n",
      "498           93.92  0.0501\n",
      "499           98.62  0.0364\n",
      "500           56.54  0.0015\n",
      "501           63.07  0.0564\n",
      "502           62.69  0.0012\n",
      "\n",
      "[503 rows x 2 columns]\n"
     ]
    }
   ],
   "source": [
    "corr1_df=pd.read_csv('/kaggle/input/tesla-stock-2022-2024/TSLA Historical Data (1).csv',usecols=['Vol.(millions)','Change'])\n",
    "corr1_df['Change']=abs(corr1_df['Change'])\n",
    "print(corr1_df)"
   ]
  },
  {
   "cell_type": "code",
   "execution_count": null,
   "metadata": {
    "execution": {
     "iopub.execute_input": "2024-11-04T08:17:21.067096Z",
     "iopub.status.busy": "2024-11-04T08:17:21.066676Z",
     "iopub.status.idle": "2024-11-04T08:17:21.074890Z",
     "shell.execute_reply": "2024-11-04T08:17:21.073496Z",
     "shell.execute_reply.started": "2024-11-04T08:17:21.067055Z"
    },
    "trusted": true
   },
   "outputs": [
    {
     "name": "stdout",
     "output_type": "stream",
     "text": [
      "                Vol.(millions)    Change\n",
      "Vol.(millions)        1.000000  0.471653\n",
      "Change                0.471653  1.000000\n"
     ]
    }
   ],
   "source": [
    "print(corr1_df.corr())"
   ]
  },
  {
   "cell_type": "code",
   "execution_count": null,
   "metadata": {},
   "outputs": [],
   "source": [
    "corr1_df=pd.DataFrame()"
   ]
  },
  {
   "cell_type": "code",
   "execution_count": null,
   "metadata": {
    "_cell_guid": "1d2dc47d-b3cb-460c-9313-9dadacc3d7d5",
    "_uuid": "dc4da881-352b-4977-a752-5bd41a00138c",
    "collapsed": false,
    "execution": {
     "iopub.execute_input": "2024-11-04T08:01:27.942413Z",
     "iopub.status.busy": "2024-11-04T08:01:27.942047Z",
     "iopub.status.idle": "2024-11-04T08:01:27.950436Z",
     "shell.execute_reply": "2024-11-04T08:01:27.949212Z",
     "shell.execute_reply.started": "2024-11-04T08:01:27.942379Z"
    },
    "jupyter": {
     "outputs_hidden": false
    },
    "trusted": true
   },
   "outputs": [
    {
     "name": "stdout",
     "output_type": "stream",
     "text": [
      "                Vol.(millions)\n",
      "Vol.(millions)             1.0\n"
     ]
    }
   ],
   "source": [
    "print(corr1_df.corr())"
   ]
  }
 ],
 "metadata": {
  "kaggle": {
   "accelerator": "none",
   "dataSources": [
    {
     "datasetId": 5995790,
     "sourceId": 9785882,
     "sourceType": "datasetVersion"
    }
   ],
   "dockerImageVersionId": 30786,
   "isGpuEnabled": false,
   "isInternetEnabled": false,
   "language": "python",
   "sourceType": "notebook"
  },
  "kernelspec": {
   "display_name": "Python 3",
   "language": "python",
   "name": "python3"
  },
  "language_info": {
   "codemirror_mode": {
    "name": "ipython",
    "version": 3
   },
   "file_extension": ".py",
   "mimetype": "text/x-python",
   "name": "python",
   "nbconvert_exporter": "python",
   "pygments_lexer": "ipython3",
   "version": "3.12.3"
  }
 },
 "nbformat": 4,
 "nbformat_minor": 4
}
