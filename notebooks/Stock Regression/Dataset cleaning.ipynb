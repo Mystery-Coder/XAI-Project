{
 "cells": [
  {
   "cell_type": "code",
   "execution_count": 14,
   "metadata": {
    "_cell_guid": "f77a9938-1fe0-4c36-a3f8-a4af6abfa3c5",
    "_uuid": "0b32cfdf-bd81-43be-9062-3f5c9685fa56",
    "collapsed": false,
    "execution": {
     "iopub.execute_input": "2024-11-04T07:56:20.902547Z",
     "iopub.status.busy": "2024-11-04T07:56:20.902156Z",
     "iopub.status.idle": "2024-11-04T07:56:21.300105Z",
     "shell.execute_reply": "2024-11-04T07:56:21.298898Z",
     "shell.execute_reply.started": "2024-11-04T07:56:20.902507Z"
    },
    "jupyter": {
     "outputs_hidden": false
    },
    "trusted": true
   },
   "outputs": [],
   "source": [
    "import pandas as pd\n",
    "import numpy as np\n",
    "import matplotlib as plt"
   ]
  },
  {
   "cell_type": "code",
   "execution_count": 2,
   "metadata": {
    "_cell_guid": "fb845f43-8ed6-49a6-87a4-1b598a5f51f3",
    "_uuid": "40a15449-9fca-424f-8421-b41a5156599d",
    "collapsed": false,
    "execution": {
     "iopub.execute_input": "2024-11-04T03:54:25.895889Z",
     "iopub.status.busy": "2024-11-04T03:54:25.894855Z",
     "iopub.status.idle": "2024-11-04T03:54:25.936421Z",
     "shell.execute_reply": "2024-11-04T03:54:25.935307Z",
     "shell.execute_reply.started": "2024-11-04T03:54:25.895753Z"
    },
    "jupyter": {
     "outputs_hidden": false
    },
    "trusted": true
   },
   "outputs": [
    {
     "data": {
      "text/html": [
       "<div>\n",
       "<style scoped>\n",
       "    .dataframe tbody tr th:only-of-type {\n",
       "        vertical-align: middle;\n",
       "    }\n",
       "\n",
       "    .dataframe tbody tr th {\n",
       "        vertical-align: top;\n",
       "    }\n",
       "\n",
       "    .dataframe thead th {\n",
       "        text-align: right;\n",
       "    }\n",
       "</style>\n",
       "<table border=\"1\" class=\"dataframe\">\n",
       "  <thead>\n",
       "    <tr style=\"text-align: right;\">\n",
       "      <th></th>\n",
       "      <th>Date</th>\n",
       "      <th>Price</th>\n",
       "      <th>Open</th>\n",
       "      <th>High</th>\n",
       "      <th>Low</th>\n",
       "      <th>Vol.(millions)</th>\n",
       "      <th>Change</th>\n",
       "    </tr>\n",
       "  </thead>\n",
       "  <tbody>\n",
       "    <tr>\n",
       "      <th>0</th>\n",
       "      <td>10/31/2024</td>\n",
       "      <td>249.85</td>\n",
       "      <td>257.99</td>\n",
       "      <td>259.75</td>\n",
       "      <td>249.25</td>\n",
       "      <td>66.58</td>\n",
       "      <td>-0.0299</td>\n",
       "    </tr>\n",
       "    <tr>\n",
       "      <th>1</th>\n",
       "      <td>10/30/2024</td>\n",
       "      <td>257.55</td>\n",
       "      <td>258.04</td>\n",
       "      <td>263.35</td>\n",
       "      <td>255.82</td>\n",
       "      <td>53.99</td>\n",
       "      <td>-0.0076</td>\n",
       "    </tr>\n",
       "    <tr>\n",
       "      <th>2</th>\n",
       "      <td>10/29/2024</td>\n",
       "      <td>259.52</td>\n",
       "      <td>264.51</td>\n",
       "      <td>264.98</td>\n",
       "      <td>255.51</td>\n",
       "      <td>80.52</td>\n",
       "      <td>-0.0114</td>\n",
       "    </tr>\n",
       "    <tr>\n",
       "      <th>3</th>\n",
       "      <td>10/28/2024</td>\n",
       "      <td>262.51</td>\n",
       "      <td>270.00</td>\n",
       "      <td>273.54</td>\n",
       "      <td>262.24</td>\n",
       "      <td>107.65</td>\n",
       "      <td>-0.0248</td>\n",
       "    </tr>\n",
       "    <tr>\n",
       "      <th>4</th>\n",
       "      <td>10/25/2024</td>\n",
       "      <td>269.19</td>\n",
       "      <td>256.01</td>\n",
       "      <td>269.49</td>\n",
       "      <td>255.32</td>\n",
       "      <td>161.61</td>\n",
       "      <td>0.0334</td>\n",
       "    </tr>\n",
       "    <tr>\n",
       "      <th>5</th>\n",
       "      <td>10/24/2024</td>\n",
       "      <td>260.48</td>\n",
       "      <td>244.68</td>\n",
       "      <td>262.12</td>\n",
       "      <td>242.65</td>\n",
       "      <td>204.49</td>\n",
       "      <td>0.2192</td>\n",
       "    </tr>\n",
       "    <tr>\n",
       "      <th>6</th>\n",
       "      <td>10/23/2024</td>\n",
       "      <td>213.65</td>\n",
       "      <td>217.13</td>\n",
       "      <td>218.72</td>\n",
       "      <td>212.11</td>\n",
       "      <td>80.94</td>\n",
       "      <td>-0.0198</td>\n",
       "    </tr>\n",
       "    <tr>\n",
       "      <th>7</th>\n",
       "      <td>10/22/2024</td>\n",
       "      <td>217.97</td>\n",
       "      <td>217.31</td>\n",
       "      <td>218.22</td>\n",
       "      <td>215.26</td>\n",
       "      <td>43.27</td>\n",
       "      <td>-0.0040</td>\n",
       "    </tr>\n",
       "    <tr>\n",
       "      <th>8</th>\n",
       "      <td>10/21/2024</td>\n",
       "      <td>218.85</td>\n",
       "      <td>218.90</td>\n",
       "      <td>220.48</td>\n",
       "      <td>215.73</td>\n",
       "      <td>47.33</td>\n",
       "      <td>-0.0084</td>\n",
       "    </tr>\n",
       "    <tr>\n",
       "      <th>9</th>\n",
       "      <td>10/18/2024</td>\n",
       "      <td>220.70</td>\n",
       "      <td>220.71</td>\n",
       "      <td>222.28</td>\n",
       "      <td>219.23</td>\n",
       "      <td>49.61</td>\n",
       "      <td>-0.0009</td>\n",
       "    </tr>\n",
       "    <tr>\n",
       "      <th>10</th>\n",
       "      <td>10/17/2024</td>\n",
       "      <td>220.89</td>\n",
       "      <td>221.59</td>\n",
       "      <td>222.08</td>\n",
       "      <td>217.90</td>\n",
       "      <td>50.79</td>\n",
       "      <td>-0.0020</td>\n",
       "    </tr>\n",
       "    <tr>\n",
       "      <th>11</th>\n",
       "      <td>10/16/2024</td>\n",
       "      <td>221.33</td>\n",
       "      <td>221.40</td>\n",
       "      <td>222.82</td>\n",
       "      <td>218.93</td>\n",
       "      <td>49.63</td>\n",
       "      <td>0.0080</td>\n",
       "    </tr>\n",
       "    <tr>\n",
       "      <th>12</th>\n",
       "      <td>10/15/2024</td>\n",
       "      <td>219.57</td>\n",
       "      <td>220.01</td>\n",
       "      <td>224.26</td>\n",
       "      <td>217.12</td>\n",
       "      <td>62.99</td>\n",
       "      <td>0.0019</td>\n",
       "    </tr>\n",
       "    <tr>\n",
       "      <th>13</th>\n",
       "      <td>10/14/2024</td>\n",
       "      <td>219.16</td>\n",
       "      <td>220.13</td>\n",
       "      <td>221.91</td>\n",
       "      <td>213.74</td>\n",
       "      <td>86.29</td>\n",
       "      <td>0.0062</td>\n",
       "    </tr>\n",
       "    <tr>\n",
       "      <th>14</th>\n",
       "      <td>10-11-2024</td>\n",
       "      <td>217.80</td>\n",
       "      <td>220.13</td>\n",
       "      <td>223.34</td>\n",
       "      <td>214.38</td>\n",
       "      <td>142.63</td>\n",
       "      <td>-0.0878</td>\n",
       "    </tr>\n",
       "  </tbody>\n",
       "</table>\n",
       "</div>"
      ],
      "text/plain": [
       "          Date   Price    Open    High     Low  Vol.(millions)  Change\n",
       "0   10/31/2024  249.85  257.99  259.75  249.25           66.58 -0.0299\n",
       "1   10/30/2024  257.55  258.04  263.35  255.82           53.99 -0.0076\n",
       "2   10/29/2024  259.52  264.51  264.98  255.51           80.52 -0.0114\n",
       "3   10/28/2024  262.51  270.00  273.54  262.24          107.65 -0.0248\n",
       "4   10/25/2024  269.19  256.01  269.49  255.32          161.61  0.0334\n",
       "5   10/24/2024  260.48  244.68  262.12  242.65          204.49  0.2192\n",
       "6   10/23/2024  213.65  217.13  218.72  212.11           80.94 -0.0198\n",
       "7   10/22/2024  217.97  217.31  218.22  215.26           43.27 -0.0040\n",
       "8   10/21/2024  218.85  218.90  220.48  215.73           47.33 -0.0084\n",
       "9   10/18/2024  220.70  220.71  222.28  219.23           49.61 -0.0009\n",
       "10  10/17/2024  220.89  221.59  222.08  217.90           50.79 -0.0020\n",
       "11  10/16/2024  221.33  221.40  222.82  218.93           49.63  0.0080\n",
       "12  10/15/2024  219.57  220.01  224.26  217.12           62.99  0.0019\n",
       "13  10/14/2024  219.16  220.13  221.91  213.74           86.29  0.0062\n",
       "14  10-11-2024  217.80  220.13  223.34  214.38          142.63 -0.0878"
      ]
     },
     "execution_count": 2,
     "metadata": {},
     "output_type": "execute_result"
    }
   ],
   "source": [
    "df=pd.read_csv(\"../../data/Stock Regression/TSLA Historical Data.csv\")\n",
    "df.head(15)"
   ]
  },
  {
   "cell_type": "code",
   "execution_count": 3,
   "metadata": {
    "_cell_guid": "87d940e5-6da7-40eb-bca4-80e5c71f4336",
    "_uuid": "290fcf9a-d5d0-47c9-a72e-688296160dde",
    "collapsed": false,
    "execution": {
     "iopub.execute_input": "2024-11-04T03:54:25.939874Z",
     "iopub.status.busy": "2024-11-04T03:54:25.939465Z",
     "iopub.status.idle": "2024-11-04T03:54:25.965194Z",
     "shell.execute_reply": "2024-11-04T03:54:25.964159Z",
     "shell.execute_reply.started": "2024-11-04T03:54:25.939837Z"
    },
    "jupyter": {
     "outputs_hidden": false
    },
    "trusted": true
   },
   "outputs": [
    {
     "name": "stdout",
     "output_type": "stream",
     "text": [
      "<class 'pandas.core.frame.DataFrame'>\n",
      "RangeIndex: 503 entries, 0 to 502\n",
      "Data columns (total 7 columns):\n",
      " #   Column          Non-Null Count  Dtype  \n",
      "---  ------          --------------  -----  \n",
      " 0   Date            503 non-null    object \n",
      " 1   Price           503 non-null    float64\n",
      " 2   Open            503 non-null    float64\n",
      " 3   High            503 non-null    float64\n",
      " 4   Low             503 non-null    float64\n",
      " 5   Vol.(millions)  503 non-null    float64\n",
      " 6   Change          503 non-null    float64\n",
      "dtypes: float64(6), object(1)\n",
      "memory usage: 27.6+ KB\n"
     ]
    }
   ],
   "source": [
    "df.info()"
   ]
  },
  {
   "cell_type": "markdown",
   "metadata": {
    "_cell_guid": "49efddf9-b736-4ac5-8e2b-150bd0a54788",
    "_uuid": "ba50924d-7fbd-4626-a1d7-6d0ff491d861",
    "trusted": true
   },
   "source": [
    "The change field is string type and has '%' symbol. this function and code block is to remove that"
   ]
  },
  {
   "cell_type": "code",
   "execution_count": 4,
   "metadata": {
    "_cell_guid": "b1efef79-3401-451a-9b6d-6959e2b99383",
    "_uuid": "8f8ff9ce-0e87-4d84-a02b-7141d6461573",
    "collapsed": false,
    "execution": {
     "iopub.execute_input": "2024-11-04T03:54:25.967003Z",
     "iopub.status.busy": "2024-11-04T03:54:25.966562Z",
     "iopub.status.idle": "2024-11-04T03:54:25.974040Z",
     "shell.execute_reply": "2024-11-04T03:54:25.973167Z",
     "shell.execute_reply.started": "2024-11-04T03:54:25.966961Z"
    },
    "jupyter": {
     "outputs_hidden": false
    },
    "trusted": true
   },
   "outputs": [],
   "source": [
    "temp_df=pd.read_csv('../../data/Stock Regression/TSLA Historical Data.csv',usecols=['Change'])"
   ]
  },
  {
   "cell_type": "code",
   "execution_count": 5,
   "metadata": {
    "_cell_guid": "302318f8-b639-422d-bfab-5cd50209b387",
    "_uuid": "11167197-adf5-44a5-bb4d-146fc87468c3",
    "collapsed": false,
    "execution": {
     "iopub.execute_input": "2024-11-04T03:54:25.975602Z",
     "iopub.status.busy": "2024-11-04T03:54:25.975266Z",
     "iopub.status.idle": "2024-11-04T03:54:25.980437Z",
     "shell.execute_reply": "2024-11-04T03:54:25.979339Z",
     "shell.execute_reply.started": "2024-11-04T03:54:25.975568Z"
    },
    "jupyter": {
     "outputs_hidden": false
    },
    "trusted": true
   },
   "outputs": [],
   "source": [
    "# def clean_str(strings):\n",
    "#     return strings[:-1]"
   ]
  },
  {
   "cell_type": "code",
   "execution_count": 6,
   "metadata": {
    "_cell_guid": "c4fc7e02-2dc6-4e7a-bcf8-da79a34f8117",
    "_uuid": "6831eea5-ef9e-4992-a1a9-fdbf4275de1d",
    "collapsed": false,
    "execution": {
     "iopub.execute_input": "2024-11-04T03:55:16.581665Z",
     "iopub.status.busy": "2024-11-04T03:55:16.581201Z",
     "iopub.status.idle": "2024-11-04T03:55:16.586423Z",
     "shell.execute_reply": "2024-11-04T03:55:16.585083Z",
     "shell.execute_reply.started": "2024-11-04T03:55:16.581624Z"
    },
    "jupyter": {
     "outputs_hidden": false
    },
    "trusted": true
   },
   "outputs": [],
   "source": [
    "# for rows in temp_df.iterrows():\n",
    "#     rows=clean_str(rows)"
   ]
  },
  {
   "cell_type": "code",
   "execution_count": 7,
   "metadata": {
    "_cell_guid": "6529cb98-cfb3-4e66-a7ea-65ecc34890c8",
    "_uuid": "5168a65b-d273-4c48-87f8-41f9037fb3c7",
    "collapsed": false,
    "execution": {
     "iopub.execute_input": "2024-11-04T03:55:21.771711Z",
     "iopub.status.busy": "2024-11-04T03:55:21.771315Z",
     "iopub.status.idle": "2024-11-04T03:55:21.782368Z",
     "shell.execute_reply": "2024-11-04T03:55:21.781115Z",
     "shell.execute_reply.started": "2024-11-04T03:55:21.771673Z"
    },
    "jupyter": {
     "outputs_hidden": false
    },
    "trusted": true
   },
   "outputs": [
    {
     "name": "stdout",
     "output_type": "stream",
     "text": [
      "     Change\n",
      "0   -0.0299\n",
      "1   -0.0076\n",
      "2   -0.0114\n",
      "3   -0.0248\n",
      "4    0.0334\n",
      "..      ...\n",
      "498 -0.0501\n",
      "499 -0.0364\n",
      "500  0.0015\n",
      "501 -0.0564\n",
      "502  0.0012\n",
      "\n",
      "[503 rows x 1 columns]\n"
     ]
    }
   ],
   "source": [
    "print(temp_df)"
   ]
  },
  {
   "cell_type": "code",
   "execution_count": 8,
   "metadata": {
    "_cell_guid": "17682a3d-33c3-4062-972d-84dfb7983622",
    "_uuid": "fb9ee8ae-17ee-49ce-9c68-ddf3916d0249",
    "collapsed": false,
    "execution": {
     "iopub.status.busy": "2024-11-04T03:54:26.294809Z",
     "iopub.status.idle": "2024-11-04T03:54:26.295232Z",
     "shell.execute_reply": "2024-11-04T03:54:26.295063Z",
     "shell.execute_reply.started": "2024-11-04T03:54:26.295043Z"
    },
    "jupyter": {
     "outputs_hidden": false
    },
    "trusted": true
   },
   "outputs": [],
   "source": [
    "convert_dict={'Change': float}\n",
    "df=df.astype(convert_dict)"
   ]
  },
  {
   "cell_type": "code",
   "execution_count": 9,
   "metadata": {
    "_cell_guid": "5e6c8c8b-25bb-4672-9052-9dc2ce941095",
    "_uuid": "a036705d-fe93-4e53-a42f-3f80fbe84b8c",
    "collapsed": false,
    "execution": {
     "iopub.execute_input": "2024-11-04T03:56:01.501057Z",
     "iopub.status.busy": "2024-11-04T03:56:01.500638Z",
     "iopub.status.idle": "2024-11-04T03:56:01.508664Z",
     "shell.execute_reply": "2024-11-04T03:56:01.507537Z",
     "shell.execute_reply.started": "2024-11-04T03:56:01.501013Z"
    },
    "jupyter": {
     "outputs_hidden": false
    },
    "trusted": true
   },
   "outputs": [
    {
     "data": {
      "text/plain": [
       "Index(['Date', 'Price', 'Open', 'High', 'Low', 'Vol.(millions)', 'Change'], dtype='object')"
      ]
     },
     "execution_count": 9,
     "metadata": {},
     "output_type": "execute_result"
    }
   ],
   "source": [
    "df.columns"
   ]
  },
  {
   "cell_type": "code",
   "execution_count": 10,
   "metadata": {
    "_cell_guid": "88eaa046-5d49-41fc-ae7a-61df170e93f1",
    "_uuid": "10b15604-0745-4c72-8f35-2069c4618e29",
    "collapsed": false,
    "execution": {
     "iopub.execute_input": "2024-11-04T03:56:04.163176Z",
     "iopub.status.busy": "2024-11-04T03:56:04.162442Z",
     "iopub.status.idle": "2024-11-04T03:56:04.192529Z",
     "shell.execute_reply": "2024-11-04T03:56:04.191530Z",
     "shell.execute_reply.started": "2024-11-04T03:56:04.163133Z"
    },
    "jupyter": {
     "outputs_hidden": false
    },
    "trusted": true
   },
   "outputs": [
    {
     "data": {
      "text/html": [
       "<div>\n",
       "<style scoped>\n",
       "    .dataframe tbody tr th:only-of-type {\n",
       "        vertical-align: middle;\n",
       "    }\n",
       "\n",
       "    .dataframe tbody tr th {\n",
       "        vertical-align: top;\n",
       "    }\n",
       "\n",
       "    .dataframe thead th {\n",
       "        text-align: right;\n",
       "    }\n",
       "</style>\n",
       "<table border=\"1\" class=\"dataframe\">\n",
       "  <thead>\n",
       "    <tr style=\"text-align: right;\">\n",
       "      <th></th>\n",
       "      <th>Price</th>\n",
       "      <th>Open</th>\n",
       "      <th>High</th>\n",
       "      <th>Low</th>\n",
       "      <th>Vol.(millions)</th>\n",
       "      <th>Change</th>\n",
       "    </tr>\n",
       "  </thead>\n",
       "  <tbody>\n",
       "    <tr>\n",
       "      <th>count</th>\n",
       "      <td>503.000000</td>\n",
       "      <td>503.000000</td>\n",
       "      <td>503.000000</td>\n",
       "      <td>503.000000</td>\n",
       "      <td>503.000000</td>\n",
       "      <td>503.000000</td>\n",
       "    </tr>\n",
       "    <tr>\n",
       "      <th>mean</th>\n",
       "      <td>207.977654</td>\n",
       "      <td>207.995308</td>\n",
       "      <td>212.282823</td>\n",
       "      <td>203.557535</td>\n",
       "      <td>117.459384</td>\n",
       "      <td>0.000869</td>\n",
       "    </tr>\n",
       "    <tr>\n",
       "      <th>std</th>\n",
       "      <td>38.433817</td>\n",
       "      <td>38.433365</td>\n",
       "      <td>38.853357</td>\n",
       "      <td>37.971154</td>\n",
       "      <td>40.693217</td>\n",
       "      <td>0.037138</td>\n",
       "    </tr>\n",
       "    <tr>\n",
       "      <th>min</th>\n",
       "      <td>108.100000</td>\n",
       "      <td>103.000000</td>\n",
       "      <td>111.750000</td>\n",
       "      <td>101.810000</td>\n",
       "      <td>43.270000</td>\n",
       "      <td>-0.123300</td>\n",
       "    </tr>\n",
       "    <tr>\n",
       "      <th>25%</th>\n",
       "      <td>179.825000</td>\n",
       "      <td>179.500000</td>\n",
       "      <td>183.635000</td>\n",
       "      <td>175.790000</td>\n",
       "      <td>87.800000</td>\n",
       "      <td>-0.019800</td>\n",
       "    </tr>\n",
       "    <tr>\n",
       "      <th>50%</th>\n",
       "      <td>205.660000</td>\n",
       "      <td>204.040000</td>\n",
       "      <td>208.900000</td>\n",
       "      <td>198.450000</td>\n",
       "      <td>111.510000</td>\n",
       "      <td>0.000800</td>\n",
       "    </tr>\n",
       "    <tr>\n",
       "      <th>75%</th>\n",
       "      <td>241.050000</td>\n",
       "      <td>241.925000</td>\n",
       "      <td>246.615000</td>\n",
       "      <td>237.215000</td>\n",
       "      <td>137.785000</td>\n",
       "      <td>0.018650</td>\n",
       "    </tr>\n",
       "    <tr>\n",
       "      <th>max</th>\n",
       "      <td>293.340000</td>\n",
       "      <td>296.040000</td>\n",
       "      <td>299.290000</td>\n",
       "      <td>289.520000</td>\n",
       "      <td>306.590000</td>\n",
       "      <td>0.219200</td>\n",
       "    </tr>\n",
       "  </tbody>\n",
       "</table>\n",
       "</div>"
      ],
      "text/plain": [
       "            Price        Open        High         Low  Vol.(millions)  \\\n",
       "count  503.000000  503.000000  503.000000  503.000000      503.000000   \n",
       "mean   207.977654  207.995308  212.282823  203.557535      117.459384   \n",
       "std     38.433817   38.433365   38.853357   37.971154       40.693217   \n",
       "min    108.100000  103.000000  111.750000  101.810000       43.270000   \n",
       "25%    179.825000  179.500000  183.635000  175.790000       87.800000   \n",
       "50%    205.660000  204.040000  208.900000  198.450000      111.510000   \n",
       "75%    241.050000  241.925000  246.615000  237.215000      137.785000   \n",
       "max    293.340000  296.040000  299.290000  289.520000      306.590000   \n",
       "\n",
       "           Change  \n",
       "count  503.000000  \n",
       "mean     0.000869  \n",
       "std      0.037138  \n",
       "min     -0.123300  \n",
       "25%     -0.019800  \n",
       "50%      0.000800  \n",
       "75%      0.018650  \n",
       "max      0.219200  "
      ]
     },
     "execution_count": 10,
     "metadata": {},
     "output_type": "execute_result"
    }
   ],
   "source": [
    "df.describe()"
   ]
  },
  {
   "cell_type": "markdown",
   "metadata": {
    "_cell_guid": "a537e1e1-cbc5-40fb-a13f-337b2d5bc72f",
    "_uuid": "9230f272-5c3a-4c5c-a89c-4b4b6339a8ed",
    "trusted": true
   },
   "source": [
    "To check whether there are any NULL values present in the dataset"
   ]
  },
  {
   "cell_type": "code",
   "execution_count": 11,
   "metadata": {
    "_cell_guid": "e8cded32-f425-4cff-8938-758e475ac659",
    "_uuid": "5f5292f1-6d56-4ac4-b2f2-6f280cc447c5",
    "collapsed": false,
    "execution": {
     "iopub.execute_input": "2024-11-04T04:01:49.957907Z",
     "iopub.status.busy": "2024-11-04T04:01:49.956892Z",
     "iopub.status.idle": "2024-11-04T04:01:49.966507Z",
     "shell.execute_reply": "2024-11-04T04:01:49.965422Z",
     "shell.execute_reply.started": "2024-11-04T04:01:49.957856Z"
    },
    "jupyter": {
     "outputs_hidden": false
    },
    "trusted": true
   },
   "outputs": [
    {
     "data": {
      "text/plain": [
       "Date              0\n",
       "Price             0\n",
       "Open              0\n",
       "High              0\n",
       "Low               0\n",
       "Vol.(millions)    0\n",
       "Change            0\n",
       "dtype: int64"
      ]
     },
     "execution_count": 11,
     "metadata": {},
     "output_type": "execute_result"
    }
   ],
   "source": [
    "df.isnull().sum()"
   ]
  },
  {
   "cell_type": "markdown",
   "metadata": {
    "_cell_guid": "e1f80eb1-eb6a-4523-9808-d16cf007bcff",
    "_uuid": "27fae040-2dd8-40cd-aa3f-8b7051481e72",
    "trusted": true
   },
   "source": [
    "The date entries are not in the same format in the .csv file. \n",
    "Changing that to dd-mm-yyyy format"
   ]
  },
  {
   "cell_type": "code",
   "execution_count": 12,
   "metadata": {
    "_cell_guid": "e8ffd848-c60e-4db9-aaed-1322b4dcf569",
    "_uuid": "5aaf0396-cd6d-4b27-9705-a2023c642e71",
    "collapsed": false,
    "execution": {
     "iopub.execute_input": "2024-11-04T04:02:08.437774Z",
     "iopub.status.busy": "2024-11-04T04:02:08.437356Z",
     "iopub.status.idle": "2024-11-04T04:02:08.447443Z",
     "shell.execute_reply": "2024-11-04T04:02:08.446393Z",
     "shell.execute_reply.started": "2024-11-04T04:02:08.437733Z"
    },
    "jupyter": {
     "outputs_hidden": false
    },
    "trusted": true
   },
   "outputs": [
    {
     "name": "stdout",
     "output_type": "stream",
     "text": [
      "0     2024-10-31\n",
      "1     2024-10-30\n",
      "2     2024-10-29\n",
      "3     2024-10-28\n",
      "4     2024-10-25\n",
      "         ...    \n",
      "498   2022-11-07\n",
      "499   2022-11-04\n",
      "500   2022-11-03\n",
      "501   2022-11-02\n",
      "502   2022-11-01\n",
      "Name: Date, Length: 503, dtype: datetime64[ns]\n"
     ]
    }
   ],
   "source": [
    "df['Date'] =pd.to_datetime(df.Date,format='mixed')\n",
    "print(df['Date'])"
   ]
  },
  {
   "cell_type": "code",
   "execution_count": 13,
   "metadata": {
    "_cell_guid": "1062ede4-dc21-45ab-bb00-f4b7a5cef59c",
    "_uuid": "6d0afbaf-9295-410e-aa83-71a45a3febdf",
    "collapsed": false,
    "execution": {
     "iopub.execute_input": "2024-11-04T04:02:41.168646Z",
     "iopub.status.busy": "2024-11-04T04:02:41.168199Z",
     "iopub.status.idle": "2024-11-04T04:02:41.180378Z",
     "shell.execute_reply": "2024-11-04T04:02:41.179099Z",
     "shell.execute_reply.started": "2024-11-04T04:02:41.168603Z"
    },
    "jupyter": {
     "outputs_hidden": false
    },
    "trusted": true
   },
   "outputs": [
    {
     "name": "stdout",
     "output_type": "stream",
     "text": [
      "0      31/10/24\n",
      "1      30/10/24\n",
      "2      29/10/24\n",
      "3      28/10/24\n",
      "4      25/10/24\n",
      "         ...   \n",
      "498    07/11/22\n",
      "499    04/11/22\n",
      "500    03/11/22\n",
      "501    02/11/22\n",
      "502    01/11/22\n",
      "Name: Date, Length: 503, dtype: object\n"
     ]
    }
   ],
   "source": [
    "df['Date']=df['Date'].dt.strftime('%d/%m/%y')\n",
    "print(df['Date'])"
   ]
  },
  {
   "cell_type": "markdown",
   "metadata": {},
   "source": [
    "Convert the cleaned dataframe to csv file and add it to the repository"
   ]
  },
  {
   "cell_type": "code",
   "execution_count": null,
   "metadata": {},
   "outputs": [],
   "source": [
    "df.to_csv(\"../../data/Stock Regression/Cleaned/TSLA Cleaned Data.csv\")"
   ]
  }
 ],
 "metadata": {
  "kaggle": {
   "accelerator": "none",
   "dataSources": [
    {
     "datasetId": 5995790,
     "sourceId": 9785882,
     "sourceType": "datasetVersion"
    }
   ],
   "dockerImageVersionId": 30786,
   "isGpuEnabled": false,
   "isInternetEnabled": false,
   "language": "python",
   "sourceType": "notebook"
  },
  "kernelspec": {
   "display_name": "Python 3",
   "language": "python",
   "name": "python3"
  },
  "language_info": {
   "codemirror_mode": {
    "name": "ipython",
    "version": 3
   },
   "file_extension": ".py",
   "mimetype": "text/x-python",
   "name": "python",
   "nbconvert_exporter": "python",
   "pygments_lexer": "ipython3",
   "version": "3.12.3"
  }
 },
 "nbformat": 4,
 "nbformat_minor": 4
}
